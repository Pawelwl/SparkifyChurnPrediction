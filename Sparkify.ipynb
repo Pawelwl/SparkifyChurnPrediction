{
 "cells": [
  {
   "cell_type": "markdown",
   "metadata": {},
   "source": [
    "# Sparkify Project\n",
    "#### Author: Pawel Wnuk Lipinski\n",
    "\n",
    "The objective of the project is to forecast churn of popular music streaming platform users. The dataset provided contains detailed information on events of users behavoiur on the platform, including among others the page they are on, the music they listen (artist, song title), users location and timestamp. <br>\n",
    "The project is based on a tiny subset (128MB) of the full dataset available (12GB), due to workspace capabilities constraints. <br>\n",
    "The Notebook is split into the following parts:\n",
    "1. Import libraries, create Spark session\n",
    "2. Load and Clean Dataset\n",
    "3. Exploratory Data Analysis\n",
    "4. Feature Engineering\n",
    "5. Modeling\n",
    "6. Summary"
   ]
  },
  {
   "cell_type": "markdown",
   "metadata": {},
   "source": [
    "## 1. Import libraries, create Spark session"
   ]
  },
  {
   "cell_type": "code",
   "execution_count": 1,
   "metadata": {},
   "outputs": [],
   "source": [
    "# import pyspark libraries\n",
    "from pyspark.sql import SparkSession\n",
    "from pyspark.sql.functions import udf\n",
    "from pyspark.sql.types import StringType\n",
    "from pyspark.sql.types import IntegerType\n",
    "from pyspark.sql.functions import desc\n",
    "from pyspark.sql.functions import sum as Fsum\n",
    "from pyspark.sql.functions import countDistinct\n",
    "from pyspark.sql.functions import to_date\n",
    "from pyspark.sql.functions import datediff\n",
    "from pyspark.sql.functions import sum, avg, max, count\n",
    "from pyspark.sql.functions import when\n",
    "from pyspark.ml import Pipeline\n",
    "from pyspark.ml.classification import LogisticRegression\n",
    "from pyspark.ml.classification import RandomForestClassifier\n",
    "from pyspark.ml.feature import VectorAssembler\n",
    "\n",
    "# Import Python libraries\n",
    "import datetime\n",
    "import numpy as np\n",
    "import pandas as pd\n",
    "%matplotlib inline\n",
    "import matplotlib.pyplot as plt\n",
    "from sklearn.metrics import confusion_matrix, accuracy_score, precision_score, recall_score, f1_score"
   ]
  },
  {
   "cell_type": "code",
   "execution_count": 2,
   "metadata": {},
   "outputs": [],
   "source": [
    "# create a Spark session\n",
    "spark = SparkSession \\\n",
    "    .builder \\\n",
    "    .appName(\"Sparkify Project\") \\\n",
    "    .getOrCreate()"
   ]
  },
  {
   "cell_type": "markdown",
   "metadata": {},
   "source": [
    "## 2. Load and Clean Dataset\n",
    "In this workspace, the mini-dataset file is `mini_sparkify_event_data.json`. \n",
    "The dataset is loaded and cleaned. It is also checked for invalid or missing data for example, records without userids or sessionids."
   ]
  },
  {
   "cell_type": "code",
   "execution_count": 3,
   "metadata": {},
   "outputs": [],
   "source": [
    "# Reading the JSON file\n",
    "path = \"mini_sparkify_event_data.json\"\n",
    "df_raw = spark.read.json(path)"
   ]
  },
  {
   "cell_type": "code",
   "execution_count": 4,
   "metadata": {},
   "outputs": [
    {
     "data": {
      "text/plain": [
       "[Row(artist='Martha Tilston', auth='Logged In', firstName='Colin', gender='M', itemInSession=50, lastName='Freeman', length=277.89016, level='paid', location='Bakersfield, CA', method='PUT', page='NextSong', registration=1538173362000, sessionId=29, song='Rockpools', status=200, ts=1538352117000, userAgent='Mozilla/5.0 (Windows NT 6.1; WOW64; rv:31.0) Gecko/20100101 Firefox/31.0', userId='30'),\n",
       " Row(artist='Five Iron Frenzy', auth='Logged In', firstName='Micah', gender='M', itemInSession=79, lastName='Long', length=236.09424, level='free', location='Boston-Cambridge-Newton, MA-NH', method='PUT', page='NextSong', registration=1538331630000, sessionId=8, song='Canada', status=200, ts=1538352180000, userAgent='\"Mozilla/5.0 (Windows NT 6.1; WOW64) AppleWebKit/537.36 (KHTML, like Gecko) Chrome/37.0.2062.103 Safari/537.36\"', userId='9')]"
      ]
     },
     "execution_count": 4,
     "metadata": {},
     "output_type": "execute_result"
    }
   ],
   "source": [
    "# Looking at first 2 rows\n",
    "df_raw.take(2)"
   ]
  },
  {
   "cell_type": "code",
   "execution_count": 5,
   "metadata": {},
   "outputs": [
    {
     "name": "stdout",
     "output_type": "stream",
     "text": [
      "root\n",
      " |-- artist: string (nullable = true)\n",
      " |-- auth: string (nullable = true)\n",
      " |-- firstName: string (nullable = true)\n",
      " |-- gender: string (nullable = true)\n",
      " |-- itemInSession: long (nullable = true)\n",
      " |-- lastName: string (nullable = true)\n",
      " |-- length: double (nullable = true)\n",
      " |-- level: string (nullable = true)\n",
      " |-- location: string (nullable = true)\n",
      " |-- method: string (nullable = true)\n",
      " |-- page: string (nullable = true)\n",
      " |-- registration: long (nullable = true)\n",
      " |-- sessionId: long (nullable = true)\n",
      " |-- song: string (nullable = true)\n",
      " |-- status: long (nullable = true)\n",
      " |-- ts: long (nullable = true)\n",
      " |-- userAgent: string (nullable = true)\n",
      " |-- userId: string (nullable = true)\n",
      "\n"
     ]
    }
   ],
   "source": [
    "# Checking column names and data types\n",
    "df_raw.printSchema()"
   ]
  },
  {
   "cell_type": "code",
   "execution_count": 6,
   "metadata": {},
   "outputs": [
    {
     "data": {
      "text/plain": [
       "286500"
      ]
     },
     "execution_count": 6,
     "metadata": {},
     "output_type": "execute_result"
    }
   ],
   "source": [
    "# We have 286,500 rows in total\n",
    "df_raw.count()"
   ]
  },
  {
   "cell_type": "code",
   "execution_count": 7,
   "metadata": {},
   "outputs": [
    {
     "name": "stdout",
     "output_type": "stream",
     "text": [
      "+-------+------------------+\n",
      "|summary|            userId|\n",
      "+-------+------------------+\n",
      "|  count|            286500|\n",
      "|   mean| 59682.02278593872|\n",
      "| stddev|109091.94999910535|\n",
      "|    min|                  |\n",
      "|    max|                99|\n",
      "+-------+------------------+\n",
      "\n"
     ]
    }
   ],
   "source": [
    "# Checking userId summary statistics\n",
    "df_raw.describe('userId').show()"
   ]
  },
  {
   "cell_type": "code",
   "execution_count": 8,
   "metadata": {},
   "outputs": [
    {
     "name": "stdout",
     "output_type": "stream",
     "text": [
      "+-------+-----------------+\n",
      "|summary|        sessionId|\n",
      "+-------+-----------------+\n",
      "|  count|           286500|\n",
      "|   mean|1041.526554973822|\n",
      "| stddev|726.7762634630799|\n",
      "|    min|                1|\n",
      "|    max|             2474|\n",
      "+-------+-----------------+\n",
      "\n"
     ]
    }
   ],
   "source": [
    "# Checking sessioinId summary statistics\n",
    "df_raw.describe('sessionId').show()"
   ]
  },
  {
   "cell_type": "code",
   "execution_count": 9,
   "metadata": {},
   "outputs": [
    {
     "data": {
      "text/plain": [
       "286500"
      ]
     },
     "execution_count": 9,
     "metadata": {},
     "output_type": "execute_result"
    }
   ],
   "source": [
    "# There ar no missing values in userId or sessionId, but there might be empty strings\n",
    "df = df_raw.dropna(how = \"any\", subset = [\"userId\", \"sessionId\"])\n",
    "df.count()"
   ]
  },
  {
   "cell_type": "code",
   "execution_count": 10,
   "metadata": {},
   "outputs": [
    {
     "data": {
      "text/plain": [
       "278154"
      ]
     },
     "execution_count": 10,
     "metadata": {},
     "output_type": "execute_result"
    }
   ],
   "source": [
    "# Removing rows with empty userId, as userId is the main user identifier we will use in ML modelling\n",
    "df = df.filter(df[\"userId\"] != \"\")\n",
    "df.count()"
   ]
  },
  {
   "cell_type": "markdown",
   "metadata": {},
   "source": [
    "## 3. Exploratory Data Analysis"
   ]
  },
  {
   "cell_type": "markdown",
   "metadata": {},
   "source": [
    "### 3.1. Exploring the columns\n",
    "Checking each column individually - what it represents, what type and range of values it has and if it might be useful for churn prediction."
   ]
  },
  {
   "cell_type": "code",
   "execution_count": 11,
   "metadata": {},
   "outputs": [
    {
     "data": {
      "text/plain": [
       "['artist',\n",
       " 'auth',\n",
       " 'firstName',\n",
       " 'gender',\n",
       " 'itemInSession',\n",
       " 'lastName',\n",
       " 'length',\n",
       " 'level',\n",
       " 'location',\n",
       " 'method',\n",
       " 'page',\n",
       " 'registration',\n",
       " 'sessionId',\n",
       " 'song',\n",
       " 'status',\n",
       " 'ts',\n",
       " 'userAgent',\n",
       " 'userId']"
      ]
     },
     "execution_count": 11,
     "metadata": {},
     "output_type": "execute_result"
    }
   ],
   "source": [
    "# list all available columns\n",
    "df.columns"
   ]
  },
  {
   "cell_type": "markdown",
   "metadata": {},
   "source": [
    "#### artist"
   ]
  },
  {
   "cell_type": "code",
   "execution_count": 12,
   "metadata": {},
   "outputs": [
    {
     "name": "stdout",
     "output_type": "stream",
     "text": [
      "+--------------------+-----+\n",
      "|              artist|count|\n",
      "+--------------------+-----+\n",
      "|                null|50046|\n",
      "|       Kings Of Leon| 1841|\n",
      "|            Coldplay| 1813|\n",
      "|Florence + The Ma...| 1236|\n",
      "|       Dwight Yoakam| 1135|\n",
      "|            BjÃÂ¶rk| 1133|\n",
      "|      The Black Keys| 1125|\n",
      "|                Muse| 1090|\n",
      "|       Justin Bieber| 1044|\n",
      "|        Jack Johnson| 1007|\n",
      "|              Eminem|  953|\n",
      "|           Radiohead|  884|\n",
      "|     Alliance Ethnik|  876|\n",
      "|               Train|  854|\n",
      "|        Taylor Swift|  840|\n",
      "|         OneRepublic|  828|\n",
      "|         The Killers|  822|\n",
      "|         Linkin Park|  787|\n",
      "|         Evanescence|  781|\n",
      "|            Harmonia|  729|\n",
      "+--------------------+-----+\n",
      "only showing top 20 rows\n",
      "\n"
     ]
    }
   ],
   "source": [
    "df.groupBy('artist').count().sort(desc('count')).show()"
   ]
  },
  {
   "cell_type": "code",
   "execution_count": 13,
   "metadata": {},
   "outputs": [
    {
     "data": {
      "text/plain": [
       "17656"
      ]
     },
     "execution_count": 13,
     "metadata": {},
     "output_type": "execute_result"
    }
   ],
   "source": [
    "df.select(\"artist\").dropDuplicates().count()"
   ]
  },
  {
   "cell_type": "markdown",
   "metadata": {},
   "source": [
    "The column has artists' names. More than 17k unique values"
   ]
  },
  {
   "cell_type": "markdown",
   "metadata": {},
   "source": [
    "#### auth"
   ]
  },
  {
   "cell_type": "code",
   "execution_count": 14,
   "metadata": {},
   "outputs": [
    {
     "name": "stdout",
     "output_type": "stream",
     "text": [
      "+---------+------+\n",
      "|     auth| count|\n",
      "+---------+------+\n",
      "|Logged In|278102|\n",
      "|Cancelled|    52|\n",
      "+---------+------+\n",
      "\n"
     ]
    }
   ],
   "source": [
    "df.groupBy('auth').count().sort(desc('count')).show()"
   ]
  },
  {
   "cell_type": "code",
   "execution_count": 15,
   "metadata": {},
   "outputs": [
    {
     "data": {
      "text/plain": [
       "[Row(page='Cancellation Confirmation')]"
      ]
     },
     "execution_count": 15,
     "metadata": {},
     "output_type": "execute_result"
    }
   ],
   "source": [
    "df_auth_cancelled = df.filter(df[\"auth\"] == \"Cancelled\")\n",
    "df_auth_cancelled.select(\"page\").dropDuplicates().collect()"
   ]
  },
  {
   "cell_type": "markdown",
   "metadata": {},
   "source": [
    "auth column has just two columns 'Logged In' and 'Cancelled'. Records with 'auth' == 'Cancelled' represent page \"Cancellation Confirmation\"."
   ]
  },
  {
   "cell_type": "markdown",
   "metadata": {},
   "source": [
    "#### firstName"
   ]
  },
  {
   "cell_type": "code",
   "execution_count": 16,
   "metadata": {},
   "outputs": [
    {
     "data": {
      "text/plain": [
       "189"
      ]
     },
     "execution_count": 16,
     "metadata": {},
     "output_type": "execute_result"
    }
   ],
   "source": [
    "df.select(\"firstName\").dropDuplicates().count()"
   ]
  },
  {
   "cell_type": "code",
   "execution_count": 17,
   "metadata": {},
   "outputs": [
    {
     "name": "stdout",
     "output_type": "stream",
     "text": [
      "+---------+-----+\n",
      "|firstName|count|\n",
      "+---------+-----+\n",
      "|   Payton| 9632|\n",
      "|    Riley| 7970|\n",
      "|   Lucero| 6880|\n",
      "|   Emilia| 5732|\n",
      "|     Emma| 5478|\n",
      "|   Joseph| 5209|\n",
      "|    Colin| 4989|\n",
      "|   Nicole| 4825|\n",
      "|   Joshua| 4654|\n",
      "|  Brayden| 4621|\n",
      "+---------+-----+\n",
      "only showing top 10 rows\n",
      "\n"
     ]
    }
   ],
   "source": [
    "df.groupBy('firstName').count().sort(desc('count')).show(10)"
   ]
  },
  {
   "cell_type": "markdown",
   "metadata": {},
   "source": [
    "The name of the user should be irrelevant for the ML model"
   ]
  },
  {
   "cell_type": "markdown",
   "metadata": {},
   "source": [
    "#### gender"
   ]
  },
  {
   "cell_type": "code",
   "execution_count": 18,
   "metadata": {
    "scrolled": true
   },
   "outputs": [
    {
     "name": "stdout",
     "output_type": "stream",
     "text": [
      "+------+------+\n",
      "|gender| count|\n",
      "+------+------+\n",
      "|     F|154578|\n",
      "|     M|123576|\n",
      "+------+------+\n",
      "\n"
     ]
    }
   ],
   "source": [
    "df.groupBy('gender').count().sort(desc('count')).show()"
   ]
  },
  {
   "cell_type": "code",
   "execution_count": 19,
   "metadata": {},
   "outputs": [
    {
     "name": "stdout",
     "output_type": "stream",
     "text": [
      "+-------+------+\n",
      "|summary|gender|\n",
      "+-------+------+\n",
      "|  count|278154|\n",
      "|   mean|  null|\n",
      "| stddev|  null|\n",
      "|    min|     F|\n",
      "|    max|     M|\n",
      "+-------+------+\n",
      "\n"
     ]
    }
   ],
   "source": [
    "df.select(\"gender\").describe().show()"
   ]
  },
  {
   "cell_type": "markdown",
   "metadata": {},
   "source": [
    "Gender is complete, with no Nulls. There are more females than males in the dataset. It can be a good feature column for ML model"
   ]
  },
  {
   "cell_type": "markdown",
   "metadata": {},
   "source": [
    "#### itemInSession"
   ]
  },
  {
   "cell_type": "code",
   "execution_count": 20,
   "metadata": {},
   "outputs": [
    {
     "name": "stdout",
     "output_type": "stream",
     "text": [
      "+-------------+-----+\n",
      "|itemInSession|count|\n",
      "+-------------+-----+\n",
      "|            2| 2941|\n",
      "|            3| 2917|\n",
      "|            4| 2887|\n",
      "|            5| 2836|\n",
      "|            1| 2818|\n",
      "|            6| 2803|\n",
      "|            7| 2776|\n",
      "|            8| 2735|\n",
      "|            9| 2693|\n",
      "|            0| 2689|\n",
      "+-------------+-----+\n",
      "only showing top 10 rows\n",
      "\n"
     ]
    }
   ],
   "source": [
    "df.groupBy('itemInSession').count().sort(desc('count')).show(10)"
   ]
  },
  {
   "cell_type": "markdown",
   "metadata": {},
   "source": [
    "The number of items in session is quite evenly distributed. This column can be potentially used as a feature"
   ]
  },
  {
   "cell_type": "markdown",
   "metadata": {},
   "source": [
    "#### lastName"
   ]
  },
  {
   "cell_type": "code",
   "execution_count": 21,
   "metadata": {},
   "outputs": [
    {
     "name": "stdout",
     "output_type": "stream",
     "text": [
      "+--------+-----+\n",
      "|lastName|count|\n",
      "+--------+-----+\n",
      "|Campbell|14060|\n",
      "|    Reed| 9284|\n",
      "|Williams| 8410|\n",
      "|  Taylor| 7230|\n",
      "| Johnson| 6106|\n",
      "+--------+-----+\n",
      "only showing top 5 rows\n",
      "\n"
     ]
    }
   ],
   "source": [
    "df.groupBy('lastName').count().sort(desc('count')).show(5)"
   ]
  },
  {
   "cell_type": "code",
   "execution_count": 22,
   "metadata": {},
   "outputs": [
    {
     "data": {
      "text/plain": [
       "173"
      ]
     },
     "execution_count": 22,
     "metadata": {},
     "output_type": "execute_result"
    }
   ],
   "source": [
    "df.select(\"lastName\").dropDuplicates().count()"
   ]
  },
  {
   "cell_type": "markdown",
   "metadata": {},
   "source": [
    "Not a good column for a feature in ML model"
   ]
  },
  {
   "cell_type": "markdown",
   "metadata": {},
   "source": [
    "#### length"
   ]
  },
  {
   "cell_type": "code",
   "execution_count": 23,
   "metadata": {},
   "outputs": [
    {
     "data": {
      "text/plain": [
       "[Row(length=277.89016),\n",
       " Row(length=236.09424),\n",
       " Row(length=282.8273),\n",
       " Row(length=262.71302),\n",
       " Row(length=223.60771),\n",
       " Row(length=208.29995),\n",
       " Row(length=260.46649),\n",
       " Row(length=185.44281),\n",
       " Row(length=None),\n",
       " Row(length=134.47791)]"
      ]
     },
     "execution_count": 23,
     "metadata": {},
     "output_type": "execute_result"
    }
   ],
   "source": [
    "df.select(\"length\").take(10)"
   ]
  },
  {
   "cell_type": "code",
   "execution_count": 24,
   "metadata": {},
   "outputs": [
    {
     "name": "stdout",
     "output_type": "stream",
     "text": [
      "+-------+------------------+\n",
      "|summary|            length|\n",
      "+-------+------------------+\n",
      "|  count|            228108|\n",
      "|   mean|249.11718197783375|\n",
      "| stddev| 99.23517921058324|\n",
      "|    min|           0.78322|\n",
      "|    max|        3024.66567|\n",
      "+-------+------------------+\n",
      "\n"
     ]
    }
   ],
   "source": [
    "df.describe('length').show()"
   ]
  },
  {
   "cell_type": "code",
   "execution_count": 25,
   "metadata": {},
   "outputs": [
    {
     "data": {
      "text/plain": [
       "50046"
      ]
     },
     "execution_count": 25,
     "metadata": {},
     "output_type": "execute_result"
    }
   ],
   "source": [
    "# around 50k records are Nulls\n",
    "df.filter(df['length'].isNull()).count()"
   ]
  },
  {
   "cell_type": "code",
   "execution_count": 26,
   "metadata": {},
   "outputs": [
    {
     "data": {
      "text/plain": [
       "[Row(userId='119', length=None, page='Home', sessionId=437),\n",
       " Row(userId='119', length=147.04281, page='NextSong', sessionId=437),\n",
       " Row(userId='119', length=290.48118, page='NextSong', sessionId=437),\n",
       " Row(userId='119', length=294.84363, page='NextSong', sessionId=437),\n",
       " Row(userId='119', length=189.6224, page='NextSong', sessionId=437),\n",
       " Row(userId='119', length=288.57424, page='NextSong', sessionId=437),\n",
       " Row(userId='119', length=215.06567, page='NextSong', sessionId=437),\n",
       " Row(userId='119', length=264.93342, page='NextSong', sessionId=437),\n",
       " Row(userId='119', length=262.47791, page='NextSong', sessionId=437),\n",
       " Row(userId='119', length=None, page='Roll Advert', sessionId=437),\n",
       " Row(userId='119', length=None, page='Home', sessionId=633),\n",
       " Row(userId='119', length=425.01179, page='NextSong', sessionId=633),\n",
       " Row(userId='119', length=None, page='Add to Playlist', sessionId=633),\n",
       " Row(userId='119', length=None, page='Upgrade', sessionId=633),\n",
       " Row(userId='119', length=518.81751, page='NextSong', sessionId=633),\n",
       " Row(userId='119', length=167.57506, page='NextSong', sessionId=633),\n",
       " Row(userId='119', length=None, page='Roll Advert', sessionId=633),\n",
       " Row(userId='119', length=232.98567, page='NextSong', sessionId=633),\n",
       " Row(userId='119', length=None, page='Home', sessionId=633),\n",
       " Row(userId='119', length=266.47465, page='NextSong', sessionId=633),\n",
       " Row(userId='119', length=297.87383, page='NextSong', sessionId=633),\n",
       " Row(userId='119', length=189.98812, page='NextSong', sessionId=633),\n",
       " Row(userId='119', length=209.55383, page='NextSong', sessionId=633),\n",
       " Row(userId='119', length=None, page='Add to Playlist', sessionId=633),\n",
       " Row(userId='119', length=201.56036, page='NextSong', sessionId=633),\n",
       " Row(userId='119', length=187.29751, page='NextSong', sessionId=633),\n",
       " Row(userId='119', length=None, page='Roll Advert', sessionId=633),\n",
       " Row(userId='119', length=250.8273, page='NextSong', sessionId=633),\n",
       " Row(userId='119', length=None, page='Error', sessionId=633),\n",
       " Row(userId='119', length=211.06893, page='NextSong', sessionId=633),\n",
       " Row(userId='119', length=None, page='Upgrade', sessionId=633),\n",
       " Row(userId='119', length=207.17669, page='NextSong', sessionId=633),\n",
       " Row(userId='119', length=550.32118, page='NextSong', sessionId=633),\n",
       " Row(userId='119', length=182.88281, page='NextSong', sessionId=633),\n",
       " Row(userId='119', length=220.89098, page='NextSong', sessionId=633),\n",
       " Row(userId='119', length=None, page='Thumbs Up', sessionId=633),\n",
       " Row(userId='119', length=196.12689, page='NextSong', sessionId=633),\n",
       " Row(userId='119', length=503.82322, page='NextSong', sessionId=633),\n",
       " Row(userId='119', length=None, page='Home', sessionId=633),\n",
       " Row(userId='119', length=245.15873, page='NextSong', sessionId=633),\n",
       " Row(userId='119', length=191.84281, page='NextSong', sessionId=633),\n",
       " Row(userId='119', length=None, page='Add to Playlist', sessionId=633),\n",
       " Row(userId='119', length=198.29506, page='NextSong', sessionId=633),\n",
       " Row(userId='119', length=127.99955, page='NextSong', sessionId=633),\n",
       " Row(userId='119', length=212.32281, page='NextSong', sessionId=633),\n",
       " Row(userId='119', length=215.37914, page='NextSong', sessionId=633),\n",
       " Row(userId='119', length=358.26893, page='NextSong', sessionId=633),\n",
       " Row(userId='119', length=232.85506, page='NextSong', sessionId=633),\n",
       " Row(userId='119', length=322.61179, page='NextSong', sessionId=633),\n",
       " Row(userId='119', length=216.5024, page='NextSong', sessionId=633),\n",
       " Row(userId='119', length=226.0371, page='NextSong', sessionId=633),\n",
       " Row(userId='119', length=None, page='Add to Playlist', sessionId=633),\n",
       " Row(userId='119', length=242.38975, page='NextSong', sessionId=633),\n",
       " Row(userId='119', length=None, page='Thumbs Up', sessionId=633),\n",
       " Row(userId='119', length=191.55546, page='NextSong', sessionId=633),\n",
       " Row(userId='119', length=232.07138, page='NextSong', sessionId=633),\n",
       " Row(userId='119', length=249.20771, page='NextSong', sessionId=633),\n",
       " Row(userId='119', length=483.05587, page='NextSong', sessionId=633),\n",
       " Row(userId='119', length=356.33587, page='NextSong', sessionId=633),\n",
       " Row(userId='119', length=229.22404, page='NextSong', sessionId=633),\n",
       " Row(userId='119', length=203.25832, page='NextSong', sessionId=633),\n",
       " Row(userId='119', length=235.62404, page='NextSong', sessionId=633),\n",
       " Row(userId='119', length=253.43955, page='NextSong', sessionId=633),\n",
       " Row(userId='119', length=None, page='Roll Advert', sessionId=633),\n",
       " Row(userId='119', length=327.52281, page='NextSong', sessionId=633),\n",
       " Row(userId='119', length=None, page='Home', sessionId=633),\n",
       " Row(userId='119', length=296.64608, page='NextSong', sessionId=633),\n",
       " Row(userId='119', length=262.66077, page='NextSong', sessionId=633),\n",
       " Row(userId='119', length=199.57506, page='NextSong', sessionId=633),\n",
       " Row(userId='119', length=236.2771, page='NextSong', sessionId=633),\n",
       " Row(userId='119', length=None, page='Home', sessionId=633),\n",
       " Row(userId='119', length=None, page='Add Friend', sessionId=633),\n",
       " Row(userId='119', length=307.51302, page='NextSong', sessionId=633),\n",
       " Row(userId='119', length=240.8224, page='NextSong', sessionId=633),\n",
       " Row(userId='119', length=229.14567, page='NextSong', sessionId=633),\n",
       " Row(userId='119', length=292.98893, page='NextSong', sessionId=633),\n",
       " Row(userId='119', length=266.44853, page='NextSong', sessionId=633),\n",
       " Row(userId='119', length=None, page='Logout', sessionId=633),\n",
       " Row(userId='119', length=None, page='Home', sessionId=633),\n",
       " Row(userId='119', length=203.33669, page='NextSong', sessionId=633),\n",
       " Row(userId='119', length=347.81995, page='NextSong', sessionId=633),\n",
       " Row(userId='119', length=312.89424, page='NextSong', sessionId=633),\n",
       " Row(userId='119', length=933.0673, page='NextSong', sessionId=633),\n",
       " Row(userId='119', length=314.40934, page='NextSong', sessionId=633),\n",
       " Row(userId='119', length=525.68771, page='NextSong', sessionId=633),\n",
       " Row(userId='119', length=96.46975, page='NextSong', sessionId=633),\n",
       " Row(userId='119', length=240.90077, page='NextSong', sessionId=633),\n",
       " Row(userId='119', length=330.16118, page='NextSong', sessionId=633),\n",
       " Row(userId='119', length=175.17669, page='NextSong', sessionId=633),\n",
       " Row(userId='119', length=245.05424, page='NextSong', sessionId=633),\n",
       " Row(userId='119', length=239.35955, page='NextSong', sessionId=633),\n",
       " Row(userId='119', length=None, page='Home', sessionId=633),\n",
       " Row(userId='119', length=294.86975, page='NextSong', sessionId=906),\n",
       " Row(userId='119', length=None, page='Roll Advert', sessionId=906),\n",
       " Row(userId='119', length=186.93179, page='NextSong', sessionId=906),\n",
       " Row(userId='119', length=466.54649, page='NextSong', sessionId=906),\n",
       " Row(userId='119', length=146.62485, page='NextSong', sessionId=906),\n",
       " Row(userId='119', length=230.03383, page='NextSong', sessionId=906),\n",
       " Row(userId='119', length=391.3922, page='NextSong', sessionId=906),\n",
       " Row(userId='119', length=210.59873, page='NextSong', sessionId=906),\n",
       " Row(userId='119', length=None, page='Roll Advert', sessionId=906),\n",
       " Row(userId='119', length=181.21098, page='NextSong', sessionId=906),\n",
       " Row(userId='119', length=274.31138, page='NextSong', sessionId=906),\n",
       " Row(userId='119', length=227.49995, page='NextSong', sessionId=906),\n",
       " Row(userId='119', length=195.47383, page='NextSong', sessionId=906),\n",
       " Row(userId='119', length=176.97914, page='NextSong', sessionId=906),\n",
       " Row(userId='119', length=None, page='Roll Advert', sessionId=906),\n",
       " Row(userId='119', length=277.15873, page='NextSong', sessionId=906),\n",
       " Row(userId='119', length=338.18077, page='NextSong', sessionId=906),\n",
       " Row(userId='119', length=348.57751, page='NextSong', sessionId=906),\n",
       " Row(userId='119', length=247.32689, page='NextSong', sessionId=906),\n",
       " Row(userId='119', length=321.54077, page='NextSong', sessionId=906),\n",
       " Row(userId='119', length=247.74485, page='NextSong', sessionId=906),\n",
       " Row(userId='119', length=263.96689, page='NextSong', sessionId=906),\n",
       " Row(userId='119', length=116.08771, page='NextSong', sessionId=906),\n",
       " Row(userId='119', length=384.67873, page='NextSong', sessionId=906),\n",
       " Row(userId='119', length=512.86159, page='NextSong', sessionId=906),\n",
       " Row(userId='119', length=224.20853, page='NextSong', sessionId=906),\n",
       " Row(userId='119', length=360.51546, page='NextSong', sessionId=906),\n",
       " Row(userId='119', length=260.20526, page='NextSong', sessionId=906),\n",
       " Row(userId='119', length=254.40608, page='NextSong', sessionId=906),\n",
       " Row(userId='119', length=153.86077, page='NextSong', sessionId=906),\n",
       " Row(userId='119', length=179.40853, page='NextSong', sessionId=906),\n",
       " Row(userId='119', length=None, page='Thumbs Up', sessionId=906),\n",
       " Row(userId='119', length=161.25342, page='NextSong', sessionId=906),\n",
       " Row(userId='119', length=None, page='Roll Advert', sessionId=906),\n",
       " Row(userId='119', length=246.33424, page='NextSong', sessionId=1129),\n",
       " Row(userId='119', length=195.94404, page='NextSong', sessionId=1129),\n",
       " Row(userId='119', length=201.79546, page='NextSong', sessionId=1129),\n",
       " Row(userId='119', length=376.86812, page='NextSong', sessionId=1129),\n",
       " Row(userId='119', length=146.05016, page='NextSong', sessionId=1129),\n",
       " Row(userId='119', length=428.64281, page='NextSong', sessionId=1129),\n",
       " Row(userId='119', length=284.81261, page='NextSong', sessionId=1129),\n",
       " Row(userId='119', length=None, page='Thumbs Down', sessionId=1129),\n",
       " Row(userId='119', length=202.73587, page='NextSong', sessionId=1129),\n",
       " Row(userId='119', length=196.20526, page='NextSong', sessionId=1129),\n",
       " Row(userId='119', length=None, page='Help', sessionId=1129),\n",
       " Row(userId='119', length=324.07465, page='NextSong', sessionId=1129),\n",
       " Row(userId='119', length=248.0322, page='NextSong', sessionId=1129),\n",
       " Row(userId='119', length=246.59546, page='NextSong', sessionId=1129),\n",
       " Row(userId='119', length=204.48608, page='NextSong', sessionId=1129),\n",
       " Row(userId='119', length=197.92934, page='NextSong', sessionId=1129),\n",
       " Row(userId='119', length=None, page='Add Friend', sessionId=1129),\n",
       " Row(userId='119', length=None, page='Add Friend', sessionId=1129),\n",
       " Row(userId='119', length=None, page='About', sessionId=1129),\n",
       " Row(userId='119', length=None, page='Add Friend', sessionId=1129),\n",
       " Row(userId='119', length=220.89098, page='NextSong', sessionId=1129),\n",
       " Row(userId='119', length=None, page='Thumbs Up', sessionId=1129),\n",
       " Row(userId='119', length=277.7073, page='NextSong', sessionId=1129),\n",
       " Row(userId='119', length=251.48036, page='NextSong', sessionId=1129),\n",
       " Row(userId='119', length=279.19628, page='NextSong', sessionId=1129),\n",
       " Row(userId='119', length=149.60281, page='NextSong', sessionId=1129),\n",
       " Row(userId='119', length=None, page='Thumbs Up', sessionId=1129),\n",
       " Row(userId='119', length=180.55791, page='NextSong', sessionId=1129),\n",
       " Row(userId='119', length=265.24689, page='NextSong', sessionId=1129),\n",
       " Row(userId='119', length=258.16771, page='NextSong', sessionId=1129),\n",
       " Row(userId='119', length=356.44036, page='NextSong', sessionId=1129),\n",
       " Row(userId='119', length=227.16036, page='NextSong', sessionId=1129),\n",
       " Row(userId='119', length=None, page='Roll Advert', sessionId=1129),\n",
       " Row(userId='119', length=245.39383, page='NextSong', sessionId=1129),\n",
       " Row(userId='119', length=442.14812, page='NextSong', sessionId=1129),\n",
       " Row(userId='119', length=187.29751, page='NextSong', sessionId=1129),\n",
       " Row(userId='119', length=None, page='Thumbs Up', sessionId=1129),\n",
       " Row(userId='119', length=253.07383, page='NextSong', sessionId=1129),\n",
       " Row(userId='119', length=506.51383, page='NextSong', sessionId=1129),\n",
       " Row(userId='119', length=205.06077, page='NextSong', sessionId=1129),\n",
       " Row(userId='119', length=313.65179, page='NextSong', sessionId=1129),\n",
       " Row(userId='119', length=244.53179, page='NextSong', sessionId=1129),\n",
       " Row(userId='119', length=226.0371, page='NextSong', sessionId=1129),\n",
       " Row(userId='119', length=224.49587, page='NextSong', sessionId=1129),\n",
       " Row(userId='119', length=215.87546, page='NextSong', sessionId=1129),\n",
       " Row(userId='119', length=132.46649, page='NextSong', sessionId=1129),\n",
       " Row(userId='119', length=263.8624, page='NextSong', sessionId=1129),\n",
       " Row(userId='119', length=None, page='Help', sessionId=1129),\n",
       " Row(userId='119', length=246.88281, page='NextSong', sessionId=1129),\n",
       " Row(userId='119', length=205.71383, page='NextSong', sessionId=1129),\n",
       " Row(userId='119', length=263.78404, page='NextSong', sessionId=1129),\n",
       " Row(userId='119', length=354.95138, page='NextSong', sessionId=1129),\n",
       " Row(userId='119', length=None, page='Settings', sessionId=1129),\n",
       " Row(userId='119', length=203.25832, page='NextSong', sessionId=1129),\n",
       " Row(userId='119', length=431.15057, page='NextSong', sessionId=1129),\n",
       " Row(userId='119', length=225.88036, page='NextSong', sessionId=1129),\n",
       " Row(userId='119', length=265.35138, page='NextSong', sessionId=1129),\n",
       " Row(userId='119', length=201.09016, page='NextSong', sessionId=1129),\n",
       " Row(userId='119', length=None, page='Add to Playlist', sessionId=1129),\n",
       " Row(userId='119', length=199.18322, page='NextSong', sessionId=1129),\n",
       " Row(userId='119', length=261.74649, page='NextSong', sessionId=1129),\n",
       " Row(userId='119', length=None, page='Help', sessionId=1129),\n",
       " Row(userId='119', length=157.33506, page='NextSong', sessionId=1470),\n",
       " Row(userId='119', length=162.45506, page='NextSong', sessionId=1470),\n",
       " Row(userId='119', length=274.96444, page='NextSong', sessionId=1470),\n",
       " Row(userId='119', length=264.202, page='NextSong', sessionId=1470),\n",
       " Row(userId='119', length=369.44934, page='NextSong', sessionId=1470),\n",
       " Row(userId='119', length=227.21261, page='NextSong', sessionId=1470),\n",
       " Row(userId='119', length=294.86975, page='NextSong', sessionId=1470),\n",
       " Row(userId='119', length=192.522, page='NextSong', sessionId=1470),\n",
       " Row(userId='119', length=136.54159, page='NextSong', sessionId=1470),\n",
       " Row(userId='119', length=231.81016, page='NextSong', sessionId=1470),\n",
       " Row(userId='119', length=174.73261, page='NextSong', sessionId=1470),\n",
       " Row(userId='119', length=195.18649, page='NextSong', sessionId=1470),\n",
       " Row(userId='119', length=265.53424, page='NextSong', sessionId=1470),\n",
       " Row(userId='119', length=265.09016, page='NextSong', sessionId=1470),\n",
       " Row(userId='119', length=187.48036, page='NextSong', sessionId=1470),\n",
       " Row(userId='119', length=196.41424, page='NextSong', sessionId=1470),\n",
       " Row(userId='119', length=129.61914, page='NextSong', sessionId=1470),\n",
       " Row(userId='119', length=207.38567, page='NextSong', sessionId=1470),\n",
       " Row(userId='119', length=None, page='Logout', sessionId=1470),\n",
       " Row(userId='119', length=None, page='Home', sessionId=1841),\n",
       " Row(userId='119', length=95.81669, page='NextSong', sessionId=1841),\n",
       " Row(userId='119', length=236.09424, page='NextSong', sessionId=1841),\n",
       " Row(userId='119', length=253.59628, page='NextSong', sessionId=1841),\n",
       " Row(userId='119', length=None, page='Settings', sessionId=1841),\n",
       " Row(userId='119', length=None, page='Settings', sessionId=1841),\n",
       " Row(userId='119', length=None, page='Save Settings', sessionId=1841),\n",
       " Row(userId='119', length=None, page='Home', sessionId=1841),\n",
       " Row(userId='119', length=258.55955, page='NextSong', sessionId=1841),\n",
       " Row(userId='119', length=272.03873, page='NextSong', sessionId=1841),\n",
       " Row(userId='119', length=269.71383, page='NextSong', sessionId=1841),\n",
       " Row(userId='119', length=208.16934, page='NextSong', sessionId=1841),\n",
       " Row(userId='119', length=242.46812, page='NextSong', sessionId=1841),\n",
       " Row(userId='119', length=None, page='Home', sessionId=1841),\n",
       " Row(userId='119', length=207.20281, page='NextSong', sessionId=1841),\n",
       " Row(userId='119', length=None, page='Thumbs Up', sessionId=1841)]"
      ]
     },
     "execution_count": 26,
     "metadata": {},
     "output_type": "execute_result"
    }
   ],
   "source": [
    "# Checking an example user\n",
    "df.select([\"userId\", \"length\", \"page\", \"sessionId\"]).where(df.userId == \"119\").collect()"
   ]
  },
  {
   "cell_type": "markdown",
   "metadata": {},
   "source": [
    "If page is 'NextSong', length represents the song's length. Potentially useful column, partially with Nulls"
   ]
  },
  {
   "cell_type": "markdown",
   "metadata": {},
   "source": [
    "#### level"
   ]
  },
  {
   "cell_type": "code",
   "execution_count": 27,
   "metadata": {},
   "outputs": [
    {
     "name": "stdout",
     "output_type": "stream",
     "text": [
      "+-----+------+\n",
      "|level| count|\n",
      "+-----+------+\n",
      "| paid|222433|\n",
      "| free| 55721|\n",
      "+-----+------+\n",
      "\n"
     ]
    }
   ],
   "source": [
    "df.groupBy('level').count().sort(desc('count')).show(5)"
   ]
  },
  {
   "cell_type": "code",
   "execution_count": 28,
   "metadata": {},
   "outputs": [
    {
     "data": {
      "text/plain": [
       "0"
      ]
     },
     "execution_count": 28,
     "metadata": {},
     "output_type": "execute_result"
    }
   ],
   "source": [
    "df.filter(df['level'].isNull()).count()"
   ]
  },
  {
   "cell_type": "markdown",
   "metadata": {},
   "source": [
    "Columns distinguishing paid users from free users."
   ]
  },
  {
   "cell_type": "markdown",
   "metadata": {},
   "source": [
    "#### location"
   ]
  },
  {
   "cell_type": "code",
   "execution_count": 29,
   "metadata": {},
   "outputs": [
    {
     "name": "stdout",
     "output_type": "stream",
     "text": [
      "+--------------------+-----+\n",
      "|            location|count|\n",
      "+--------------------+-----+\n",
      "|Los Angeles-Long ...|30131|\n",
      "|New York-Newark-J...|23684|\n",
      "|Boston-Cambridge-...|13873|\n",
      "|Houston-The Woodl...| 9499|\n",
      "|Charlotte-Concord...| 7780|\n",
      "|Dallas-Fort Worth...| 7605|\n",
      "|Louisville/Jeffer...| 6880|\n",
      "|Philadelphia-Camd...| 5890|\n",
      "|Chicago-Napervill...| 5114|\n",
      "|    St. Louis, MO-IL| 4858|\n",
      "|Phoenix-Mesa-Scot...| 4846|\n",
      "|Vineland-Bridgeto...| 4825|\n",
      "|          Wilson, NC| 4659|\n",
      "|Denver-Aurora-Lak...| 4453|\n",
      "|           Ionia, MI| 4428|\n",
      "+--------------------+-----+\n",
      "only showing top 15 rows\n",
      "\n"
     ]
    }
   ],
   "source": [
    "df.groupBy('location').count().sort(desc('count')).show(15)"
   ]
  },
  {
   "cell_type": "code",
   "execution_count": 30,
   "metadata": {},
   "outputs": [
    {
     "data": {
      "text/plain": [
       "114"
      ]
     },
     "execution_count": 30,
     "metadata": {},
     "output_type": "execute_result"
    }
   ],
   "source": [
    "df.select('location').dropDuplicates().count()"
   ]
  },
  {
   "cell_type": "markdown",
   "metadata": {},
   "source": [
    "114 unique locations. That would be a difficulat feature to be used"
   ]
  },
  {
   "cell_type": "markdown",
   "metadata": {},
   "source": [
    "#### method"
   ]
  },
  {
   "cell_type": "code",
   "execution_count": 31,
   "metadata": {},
   "outputs": [
    {
     "name": "stdout",
     "output_type": "stream",
     "text": [
      "+------+------+\n",
      "|method| count|\n",
      "+------+------+\n",
      "|   PUT|257818|\n",
      "|   GET| 20336|\n",
      "+------+------+\n",
      "\n"
     ]
    }
   ],
   "source": [
    "df.groupBy('method').count().sort(desc('count')).show(15)"
   ]
  },
  {
   "cell_type": "markdown",
   "metadata": {},
   "source": [
    "It is hard to interpret the usefulness of this column"
   ]
  },
  {
   "cell_type": "markdown",
   "metadata": {},
   "source": [
    "#### page"
   ]
  },
  {
   "cell_type": "code",
   "execution_count": 32,
   "metadata": {},
   "outputs": [
    {
     "name": "stdout",
     "output_type": "stream",
     "text": [
      "+--------------------+------+\n",
      "|                page| count|\n",
      "+--------------------+------+\n",
      "|            NextSong|228108|\n",
      "|           Thumbs Up| 12551|\n",
      "|                Home| 10082|\n",
      "|     Add to Playlist|  6526|\n",
      "|          Add Friend|  4277|\n",
      "|         Roll Advert|  3933|\n",
      "|              Logout|  3226|\n",
      "|         Thumbs Down|  2546|\n",
      "|           Downgrade|  2055|\n",
      "|            Settings|  1514|\n",
      "|                Help|  1454|\n",
      "|             Upgrade|   499|\n",
      "|               About|   495|\n",
      "|       Save Settings|   310|\n",
      "|               Error|   252|\n",
      "|      Submit Upgrade|   159|\n",
      "|    Submit Downgrade|    63|\n",
      "|Cancellation Conf...|    52|\n",
      "|              Cancel|    52|\n",
      "+--------------------+------+\n",
      "\n"
     ]
    }
   ],
   "source": [
    "df.groupBy('page').count().sort(desc('count')).show(20)"
   ]
  },
  {
   "cell_type": "code",
   "execution_count": 33,
   "metadata": {},
   "outputs": [
    {
     "data": {
      "text/plain": [
       "0"
      ]
     },
     "execution_count": 33,
     "metadata": {},
     "output_type": "execute_result"
    }
   ],
   "source": [
    "df.filter(df['page'].isNull()).count()"
   ]
  },
  {
   "cell_type": "code",
   "execution_count": 34,
   "metadata": {},
   "outputs": [
    {
     "data": {
      "text/plain": [
       "19"
      ]
     },
     "execution_count": 34,
     "metadata": {},
     "output_type": "execute_result"
    }
   ],
   "source": [
    "df.select('page').dropDuplicates().count()"
   ]
  },
  {
   "cell_type": "markdown",
   "metadata": {},
   "source": [
    "Page has 19 possible different values. It is a potentially good column for both feature creation and churn definition"
   ]
  },
  {
   "cell_type": "markdown",
   "metadata": {},
   "source": [
    "#### registration"
   ]
  },
  {
   "cell_type": "code",
   "execution_count": 35,
   "metadata": {},
   "outputs": [
    {
     "name": "stdout",
     "output_type": "stream",
     "text": [
      "+-------------+-----+\n",
      "| registration|count|\n",
      "+-------------+-----+\n",
      "|1529027541000| 9632|\n",
      "|1536403972000| 7230|\n",
      "|1536642109000| 6880|\n",
      "|1538336771000| 5732|\n",
      "|1532224335000| 4825|\n",
      "+-------------+-----+\n",
      "only showing top 5 rows\n",
      "\n"
     ]
    }
   ],
   "source": [
    "df.groupBy('registration').count().sort(desc('count')).show(5)"
   ]
  },
  {
   "cell_type": "code",
   "execution_count": 36,
   "metadata": {},
   "outputs": [
    {
     "data": {
      "text/plain": [
       "225"
      ]
     },
     "execution_count": 36,
     "metadata": {},
     "output_type": "execute_result"
    }
   ],
   "source": [
    "df.select('registration').dropDuplicates().count()"
   ]
  },
  {
   "cell_type": "code",
   "execution_count": 37,
   "metadata": {},
   "outputs": [
    {
     "data": {
      "text/plain": [
       "0"
      ]
     },
     "execution_count": 37,
     "metadata": {},
     "output_type": "execute_result"
    }
   ],
   "source": [
    "df.filter(df['registration'].isNull()).count()"
   ]
  },
  {
   "cell_type": "code",
   "execution_count": 38,
   "metadata": {},
   "outputs": [],
   "source": [
    "# Converting registration into readible format of registration_date\n",
    "get_date = udf(lambda x: datetime.datetime.fromtimestamp(x / 1000.0).strftime('%Y-%m-%d'))\n",
    "df = df.withColumn(\"registration_date\", get_date(df.registration))"
   ]
  },
  {
   "cell_type": "markdown",
   "metadata": {},
   "source": [
    "The column represents registration time of each user. Therefore for a particular user there is one unique date. Registration date might be useful as a feature, we will keep it"
   ]
  },
  {
   "cell_type": "markdown",
   "metadata": {},
   "source": [
    "#### sessionId"
   ]
  },
  {
   "cell_type": "code",
   "execution_count": 39,
   "metadata": {},
   "outputs": [
    {
     "data": {
      "text/plain": [
       "2312"
      ]
     },
     "execution_count": 39,
     "metadata": {},
     "output_type": "execute_result"
    }
   ],
   "source": [
    "df.select('sessionId').dropDuplicates().count()"
   ]
  },
  {
   "cell_type": "code",
   "execution_count": 40,
   "metadata": {},
   "outputs": [
    {
     "data": {
      "text/plain": [
       "0"
      ]
     },
     "execution_count": 40,
     "metadata": {},
     "output_type": "execute_result"
    }
   ],
   "source": [
    "df.filter(df['sessionId'].isNull()).count()"
   ]
  },
  {
   "cell_type": "code",
   "execution_count": 41,
   "metadata": {},
   "outputs": [
    {
     "data": {
      "text/plain": [
       "[Row(sessionId=29),\n",
       " Row(sessionId=8),\n",
       " Row(sessionId=29),\n",
       " Row(sessionId=8),\n",
       " Row(sessionId=29)]"
      ]
     },
     "execution_count": 41,
     "metadata": {},
     "output_type": "execute_result"
    }
   ],
   "source": [
    "df.select('sessionId').take(5)"
   ]
  },
  {
   "cell_type": "markdown",
   "metadata": {},
   "source": [
    "There are more sessionIds than userIds which means that each user can have multiple sessions. Potentially the number of sessionIds for a user can be a feature"
   ]
  },
  {
   "cell_type": "markdown",
   "metadata": {},
   "source": [
    "#### song"
   ]
  },
  {
   "cell_type": "code",
   "execution_count": 42,
   "metadata": {},
   "outputs": [
    {
     "data": {
      "text/plain": [
       "58481"
      ]
     },
     "execution_count": 42,
     "metadata": {},
     "output_type": "execute_result"
    }
   ],
   "source": [
    "df.select('song').dropDuplicates().count()"
   ]
  },
  {
   "cell_type": "code",
   "execution_count": 43,
   "metadata": {},
   "outputs": [
    {
     "data": {
      "text/plain": [
       "[Row(song='Rockpools'),\n",
       " Row(song='Canada'),\n",
       " Row(song='Time For Miracles'),\n",
       " Row(song='Knocking On Forbidden Doors'),\n",
       " Row(song='Harder Better Faster Stronger'),\n",
       " Row(song=\"Don't Leave Me\"),\n",
       " Row(song='Run Run Run'),\n",
       " Row(song='Passengers (Old Album Version)'),\n",
       " Row(song=None),\n",
       " Row(song='Fuck Kitty')]"
      ]
     },
     "execution_count": 43,
     "metadata": {},
     "output_type": "execute_result"
    }
   ],
   "source": [
    "df.select('song').take(10)"
   ]
  },
  {
   "cell_type": "markdown",
   "metadata": {},
   "source": [
    "This column represents the song's name"
   ]
  },
  {
   "cell_type": "markdown",
   "metadata": {},
   "source": [
    "#### status"
   ]
  },
  {
   "cell_type": "code",
   "execution_count": 44,
   "metadata": {},
   "outputs": [
    {
     "data": {
      "text/plain": [
       "3"
      ]
     },
     "execution_count": 44,
     "metadata": {},
     "output_type": "execute_result"
    }
   ],
   "source": [
    "df.select('status').dropDuplicates().count()"
   ]
  },
  {
   "cell_type": "code",
   "execution_count": 45,
   "metadata": {},
   "outputs": [
    {
     "data": {
      "text/plain": [
       "[Row(status=200),\n",
       " Row(status=200),\n",
       " Row(status=200),\n",
       " Row(status=200),\n",
       " Row(status=200),\n",
       " Row(status=200),\n",
       " Row(status=200),\n",
       " Row(status=200),\n",
       " Row(status=200),\n",
       " Row(status=200)]"
      ]
     },
     "execution_count": 45,
     "metadata": {},
     "output_type": "execute_result"
    }
   ],
   "source": [
    "df.select('status').take(10)"
   ]
  },
  {
   "cell_type": "code",
   "execution_count": 46,
   "metadata": {},
   "outputs": [
    {
     "data": {
      "text/plain": [
       "0"
      ]
     },
     "execution_count": 46,
     "metadata": {},
     "output_type": "execute_result"
    }
   ],
   "source": [
    "df.filter(df['status'].isNull()).count()"
   ]
  },
  {
   "cell_type": "code",
   "execution_count": 47,
   "metadata": {},
   "outputs": [
    {
     "name": "stdout",
     "output_type": "stream",
     "text": [
      "+------+------+\n",
      "|status| count|\n",
      "+------+------+\n",
      "|   200|254718|\n",
      "|   307| 23184|\n",
      "|   404|   252|\n",
      "+------+------+\n",
      "\n"
     ]
    }
   ],
   "source": [
    "df.groupBy('status').count().sort(desc('count')).show(20)"
   ]
  },
  {
   "cell_type": "markdown",
   "metadata": {},
   "source": [
    "We will keep this column for further exploration"
   ]
  },
  {
   "cell_type": "markdown",
   "metadata": {},
   "source": [
    "#### ts"
   ]
  },
  {
   "cell_type": "code",
   "execution_count": 48,
   "metadata": {},
   "outputs": [
    {
     "data": {
      "text/plain": [
       "[Row(ts=1538352117000),\n",
       " Row(ts=1538352180000),\n",
       " Row(ts=1538352394000),\n",
       " Row(ts=1538352416000),\n",
       " Row(ts=1538352676000)]"
      ]
     },
     "execution_count": 48,
     "metadata": {},
     "output_type": "execute_result"
    }
   ],
   "source": [
    "df.select('ts').take(5)"
   ]
  },
  {
   "cell_type": "code",
   "execution_count": 49,
   "metadata": {},
   "outputs": [],
   "source": [
    "df = df.withColumn(\"ts_date\", get_date(df.ts))"
   ]
  },
  {
   "cell_type": "code",
   "execution_count": 50,
   "metadata": {},
   "outputs": [
    {
     "data": {
      "text/plain": [
       "[Row(artist='Martha Tilston', auth='Logged In', firstName='Colin', gender='M', itemInSession=50, lastName='Freeman', length=277.89016, level='paid', location='Bakersfield, CA', method='PUT', page='NextSong', registration=1538173362000, sessionId=29, song='Rockpools', status=200, ts=1538352117000, userAgent='Mozilla/5.0 (Windows NT 6.1; WOW64; rv:31.0) Gecko/20100101 Firefox/31.0', userId='30', registration_date='2018-09-28', ts_date='2018-10-01'),\n",
       " Row(artist='Five Iron Frenzy', auth='Logged In', firstName='Micah', gender='M', itemInSession=79, lastName='Long', length=236.09424, level='free', location='Boston-Cambridge-Newton, MA-NH', method='PUT', page='NextSong', registration=1538331630000, sessionId=8, song='Canada', status=200, ts=1538352180000, userAgent='\"Mozilla/5.0 (Windows NT 6.1; WOW64) AppleWebKit/537.36 (KHTML, like Gecko) Chrome/37.0.2062.103 Safari/537.36\"', userId='9', registration_date='2018-09-30', ts_date='2018-10-01')]"
      ]
     },
     "execution_count": 50,
     "metadata": {},
     "output_type": "execute_result"
    }
   ],
   "source": [
    "df.take(2)"
   ]
  },
  {
   "cell_type": "markdown",
   "metadata": {},
   "source": [
    "Timestamp converted into a readable format might be useful"
   ]
  },
  {
   "cell_type": "markdown",
   "metadata": {},
   "source": [
    "#### userAgent"
   ]
  },
  {
   "cell_type": "code",
   "execution_count": 51,
   "metadata": {},
   "outputs": [
    {
     "data": {
      "text/plain": [
       "56"
      ]
     },
     "execution_count": 51,
     "metadata": {},
     "output_type": "execute_result"
    }
   ],
   "source": [
    "df.select('userAgent').dropDuplicates().count()"
   ]
  },
  {
   "cell_type": "code",
   "execution_count": 52,
   "metadata": {},
   "outputs": [
    {
     "name": "stdout",
     "output_type": "stream",
     "text": [
      "+--------------------+-----+\n",
      "|           userAgent|count|\n",
      "+--------------------+-----+\n",
      "|\"Mozilla/5.0 (Win...|22751|\n",
      "|\"Mozilla/5.0 (Mac...|19611|\n",
      "|\"Mozilla/5.0 (Mac...|18448|\n",
      "|\"Mozilla/5.0 (Mac...|17348|\n",
      "|Mozilla/5.0 (Wind...|16700|\n",
      "+--------------------+-----+\n",
      "only showing top 5 rows\n",
      "\n"
     ]
    }
   ],
   "source": [
    "df.groupBy('userAgent').count().sort(desc('count')).show(5)"
   ]
  },
  {
   "cell_type": "markdown",
   "metadata": {},
   "source": [
    "It is not clear what this column actually is"
   ]
  },
  {
   "cell_type": "markdown",
   "metadata": {},
   "source": [
    "#### userId"
   ]
  },
  {
   "cell_type": "code",
   "execution_count": 53,
   "metadata": {},
   "outputs": [
    {
     "data": {
      "text/plain": [
       "225"
      ]
     },
     "execution_count": 53,
     "metadata": {},
     "output_type": "execute_result"
    }
   ],
   "source": [
    "df.select('userId').dropDuplicates().count()"
   ]
  },
  {
   "cell_type": "markdown",
   "metadata": {},
   "source": [
    "225 users will be analyzed"
   ]
  },
  {
   "cell_type": "markdown",
   "metadata": {},
   "source": [
    "### 3.2. Churn definition\n",
    "\n",
    "To create ML model for customer churn, the churn must be defined.\n",
    "When user goes to page `Cancellation Confirmation` he quits and there are no more records for the user after this event.\n",
    "Therefore the `Cancellation Confirmation` page is used to define `Churn` label. "
   ]
  },
  {
   "cell_type": "markdown",
   "metadata": {},
   "source": [
    "#### Defining churn:\n",
    "* 'churn' column = 1, when user churned i.e. the 'Cancellation Confirmation' event exists under his userId\n",
    "* 'churn' column = 0, when user hasn't churned i.e. the 'Cancellation Confirmation' event doesn't exist under his userId"
   ]
  },
  {
   "cell_type": "code",
   "execution_count": 54,
   "metadata": {},
   "outputs": [
    {
     "data": {
      "text/plain": [
       "[125, 51, 54, 100014, 101]"
      ]
     },
     "execution_count": 54,
     "metadata": {},
     "output_type": "execute_result"
    }
   ],
   "source": [
    "# Preparing a list of user_ids for users who churned\n",
    "user_ids_cancelled = df.select('userId').where(df.page == 'Cancellation Confirmation').dropDuplicates().collect()\n",
    "user_ids_cancelled = [int(row.userId) for row in user_ids_cancelled]\n",
    "user_ids_cancelled[:5]"
   ]
  },
  {
   "cell_type": "code",
   "execution_count": 55,
   "metadata": {},
   "outputs": [],
   "source": [
    "df = df.withColumn(\"churn\", when(df.userId.isin(user_ids_cancelled), 1).otherwise(0))"
   ]
  },
  {
   "cell_type": "markdown",
   "metadata": {},
   "source": [
    "### 3.3. Explore Data to look for relationship with churn\n",
    "\n",
    "Exploring the columns to observe the behavior for users who stayed vs users who churned. The analysis will help in creating features for ML model."
   ]
  },
  {
   "cell_type": "markdown",
   "metadata": {},
   "source": [
    "#### artist"
   ]
  },
  {
   "cell_type": "code",
   "execution_count": 56,
   "metadata": {},
   "outputs": [
    {
     "name": "stdout",
     "output_type": "stream",
     "text": [
      "+-----+---------------------------+\n",
      "|churn|avg(count(DISTINCT artist))|\n",
      "+-----+---------------------------+\n",
      "|    1|          518.6923076923077|\n",
      "|    0|          749.7861271676301|\n",
      "+-----+---------------------------+\n",
      "\n"
     ]
    }
   ],
   "source": [
    "df_distinct_artists = df.groupBy([\"churn\", \"userId\"]).agg(countDistinct(\"artist\")).groupby(\"churn\").agg({'count(DISTINCT artist)': 'mean'})\n",
    "df_distinct_artists.show()"
   ]
  },
  {
   "cell_type": "markdown",
   "metadata": {},
   "source": [
    "On average users who churn listen to lower number of distinct artists"
   ]
  },
  {
   "cell_type": "markdown",
   "metadata": {},
   "source": [
    "#### gender"
   ]
  },
  {
   "cell_type": "code",
   "execution_count": 57,
   "metadata": {
    "scrolled": true
   },
   "outputs": [
    {
     "name": "stdout",
     "output_type": "stream",
     "text": [
      "+------+-----+----------------------+\n",
      "|gender|churn|count(DISTINCT userId)|\n",
      "+------+-----+----------------------+\n",
      "|     F|    1|                    20|\n",
      "|     F|    0|                    84|\n",
      "|     M|    1|                    32|\n",
      "|     M|    0|                    89|\n",
      "+------+-----+----------------------+\n",
      "\n"
     ]
    }
   ],
   "source": [
    "df_gender = df.groupBy([\"gender\", \"churn\"]).agg(countDistinct(\"userId\")).sort(\"gender\")\n",
    "df_gender.show()"
   ]
  },
  {
   "cell_type": "code",
   "execution_count": 58,
   "metadata": {},
   "outputs": [],
   "source": [
    "F_0 = df_gender.filter(df_gender['gender'] == 'F').filter(df_gender['churn'] == '0').collect()[0].asDict()['count(DISTINCT userId)']\n",
    "F_1 = df_gender.filter(df_gender['gender'] == 'F').filter(df_gender['churn'] == '1').collect()[0].asDict()['count(DISTINCT userId)']\n",
    "M_0 = df_gender.filter(df_gender['gender'] == 'M').filter(df_gender['churn'] == '0').collect()[0].asDict()['count(DISTINCT userId)']\n",
    "M_1 = df_gender.filter(df_gender['gender'] == 'M').filter(df_gender['churn'] == '1').collect()[0].asDict()['count(DISTINCT userId)']"
   ]
  },
  {
   "cell_type": "code",
   "execution_count": 59,
   "metadata": {},
   "outputs": [
    {
     "name": "stdout",
     "output_type": "stream",
     "text": [
      "Probability of churning of female user is 0.19\n",
      "Probability of churning of male user is 0.26\n"
     ]
    }
   ],
   "source": [
    "print(f'Probability of churning of female user is {(F_1 / (F_0 + F_1)):.2f}')\n",
    "print(f'Probability of churning of male user is {(M_1 / (M_0 + M_1)):.2f}')"
   ]
  },
  {
   "cell_type": "markdown",
   "metadata": {},
   "source": [
    "Gender can be helpful as a feature in the ML model."
   ]
  },
  {
   "cell_type": "markdown",
   "metadata": {},
   "source": [
    "#### itemInSession"
   ]
  },
  {
   "cell_type": "code",
   "execution_count": 60,
   "metadata": {},
   "outputs": [
    {
     "data": {
      "text/plain": [
       "[Row(sessionId=29, itemInSession=50),\n",
       " Row(sessionId=29, itemInSession=51),\n",
       " Row(sessionId=29, itemInSession=52),\n",
       " Row(sessionId=29, itemInSession=53),\n",
       " Row(sessionId=29, itemInSession=54),\n",
       " Row(sessionId=29, itemInSession=55),\n",
       " Row(sessionId=29, itemInSession=56),\n",
       " Row(sessionId=29, itemInSession=57),\n",
       " Row(sessionId=29, itemInSession=58),\n",
       " Row(sessionId=29, itemInSession=59),\n",
       " Row(sessionId=29, itemInSession=60),\n",
       " Row(sessionId=29, itemInSession=61),\n",
       " Row(sessionId=29, itemInSession=62),\n",
       " Row(sessionId=29, itemInSession=63),\n",
       " Row(sessionId=29, itemInSession=64),\n",
       " Row(sessionId=29, itemInSession=65),\n",
       " Row(sessionId=29, itemInSession=66),\n",
       " Row(sessionId=29, itemInSession=67),\n",
       " Row(sessionId=29, itemInSession=68),\n",
       " Row(sessionId=29, itemInSession=69),\n",
       " Row(sessionId=29, itemInSession=70),\n",
       " Row(sessionId=29, itemInSession=71),\n",
       " Row(sessionId=29, itemInSession=72),\n",
       " Row(sessionId=29, itemInSession=73),\n",
       " Row(sessionId=29, itemInSession=74),\n",
       " Row(sessionId=29, itemInSession=75),\n",
       " Row(sessionId=29, itemInSession=76),\n",
       " Row(sessionId=29, itemInSession=77),\n",
       " Row(sessionId=29, itemInSession=78),\n",
       " Row(sessionId=29, itemInSession=79),\n",
       " Row(sessionId=29, itemInSession=80),\n",
       " Row(sessionId=29, itemInSession=81),\n",
       " Row(sessionId=29, itemInSession=82),\n",
       " Row(sessionId=29, itemInSession=83),\n",
       " Row(sessionId=29, itemInSession=84),\n",
       " Row(sessionId=29, itemInSession=85),\n",
       " Row(sessionId=29, itemInSession=86),\n",
       " Row(sessionId=29, itemInSession=87),\n",
       " Row(sessionId=29, itemInSession=88),\n",
       " Row(sessionId=29, itemInSession=89),\n",
       " Row(sessionId=29, itemInSession=90),\n",
       " Row(sessionId=29, itemInSession=91),\n",
       " Row(sessionId=264, itemInSession=0),\n",
       " Row(sessionId=264, itemInSession=1),\n",
       " Row(sessionId=532, itemInSession=0),\n",
       " Row(sessionId=532, itemInSession=1),\n",
       " Row(sessionId=532, itemInSession=2),\n",
       " Row(sessionId=532, itemInSession=3),\n",
       " Row(sessionId=532, itemInSession=4),\n",
       " Row(sessionId=532, itemInSession=5),\n",
       " Row(sessionId=532, itemInSession=6),\n",
       " Row(sessionId=532, itemInSession=7),\n",
       " Row(sessionId=532, itemInSession=8),\n",
       " Row(sessionId=532, itemInSession=9),\n",
       " Row(sessionId=532, itemInSession=10),\n",
       " Row(sessionId=532, itemInSession=11),\n",
       " Row(sessionId=532, itemInSession=12),\n",
       " Row(sessionId=532, itemInSession=13),\n",
       " Row(sessionId=532, itemInSession=14),\n",
       " Row(sessionId=532, itemInSession=15),\n",
       " Row(sessionId=532, itemInSession=16),\n",
       " Row(sessionId=532, itemInSession=17),\n",
       " Row(sessionId=532, itemInSession=18),\n",
       " Row(sessionId=532, itemInSession=19),\n",
       " Row(sessionId=532, itemInSession=20),\n",
       " Row(sessionId=532, itemInSession=21),\n",
       " Row(sessionId=532, itemInSession=22),\n",
       " Row(sessionId=532, itemInSession=23),\n",
       " Row(sessionId=532, itemInSession=24),\n",
       " Row(sessionId=532, itemInSession=25),\n",
       " Row(sessionId=532, itemInSession=26),\n",
       " Row(sessionId=532, itemInSession=27),\n",
       " Row(sessionId=532, itemInSession=28),\n",
       " Row(sessionId=532, itemInSession=29),\n",
       " Row(sessionId=532, itemInSession=30),\n",
       " Row(sessionId=532, itemInSession=31),\n",
       " Row(sessionId=532, itemInSession=32),\n",
       " Row(sessionId=532, itemInSession=33),\n",
       " Row(sessionId=532, itemInSession=34),\n",
       " Row(sessionId=532, itemInSession=35),\n",
       " Row(sessionId=532, itemInSession=36),\n",
       " Row(sessionId=532, itemInSession=37),\n",
       " Row(sessionId=532, itemInSession=38),\n",
       " Row(sessionId=532, itemInSession=39),\n",
       " Row(sessionId=532, itemInSession=40),\n",
       " Row(sessionId=532, itemInSession=41),\n",
       " Row(sessionId=532, itemInSession=42),\n",
       " Row(sessionId=532, itemInSession=43),\n",
       " Row(sessionId=532, itemInSession=44),\n",
       " Row(sessionId=532, itemInSession=45),\n",
       " Row(sessionId=532, itemInSession=46),\n",
       " Row(sessionId=532, itemInSession=47),\n",
       " Row(sessionId=532, itemInSession=48),\n",
       " Row(sessionId=532, itemInSession=49),\n",
       " Row(sessionId=532, itemInSession=50),\n",
       " Row(sessionId=532, itemInSession=51),\n",
       " Row(sessionId=532, itemInSession=52),\n",
       " Row(sessionId=532, itemInSession=53),\n",
       " Row(sessionId=532, itemInSession=54),\n",
       " Row(sessionId=532, itemInSession=55),\n",
       " Row(sessionId=532, itemInSession=56),\n",
       " Row(sessionId=532, itemInSession=57),\n",
       " Row(sessionId=532, itemInSession=58),\n",
       " Row(sessionId=532, itemInSession=59),\n",
       " Row(sessionId=532, itemInSession=60),\n",
       " Row(sessionId=532, itemInSession=61),\n",
       " Row(sessionId=532, itemInSession=62),\n",
       " Row(sessionId=532, itemInSession=63),\n",
       " Row(sessionId=532, itemInSession=64),\n",
       " Row(sessionId=532, itemInSession=65),\n",
       " Row(sessionId=532, itemInSession=66),\n",
       " Row(sessionId=532, itemInSession=67),\n",
       " Row(sessionId=532, itemInSession=68),\n",
       " Row(sessionId=532, itemInSession=69),\n",
       " Row(sessionId=532, itemInSession=70),\n",
       " Row(sessionId=532, itemInSession=71),\n",
       " Row(sessionId=532, itemInSession=72),\n",
       " Row(sessionId=532, itemInSession=73),\n",
       " Row(sessionId=532, itemInSession=74),\n",
       " Row(sessionId=532, itemInSession=75),\n",
       " Row(sessionId=532, itemInSession=76),\n",
       " Row(sessionId=532, itemInSession=77),\n",
       " Row(sessionId=532, itemInSession=78),\n",
       " Row(sessionId=532, itemInSession=79),\n",
       " Row(sessionId=532, itemInSession=80),\n",
       " Row(sessionId=532, itemInSession=81),\n",
       " Row(sessionId=532, itemInSession=82),\n",
       " Row(sessionId=532, itemInSession=83),\n",
       " Row(sessionId=532, itemInSession=84),\n",
       " Row(sessionId=532, itemInSession=85),\n",
       " Row(sessionId=532, itemInSession=86),\n",
       " Row(sessionId=532, itemInSession=87),\n",
       " Row(sessionId=532, itemInSession=88),\n",
       " Row(sessionId=532, itemInSession=89),\n",
       " Row(sessionId=532, itemInSession=90),\n",
       " Row(sessionId=532, itemInSession=91),\n",
       " Row(sessionId=532, itemInSession=92),\n",
       " Row(sessionId=532, itemInSession=93),\n",
       " Row(sessionId=532, itemInSession=94),\n",
       " Row(sessionId=532, itemInSession=95),\n",
       " Row(sessionId=532, itemInSession=96),\n",
       " Row(sessionId=532, itemInSession=97),\n",
       " Row(sessionId=532, itemInSession=98),\n",
       " Row(sessionId=532, itemInSession=99),\n",
       " Row(sessionId=532, itemInSession=100),\n",
       " Row(sessionId=532, itemInSession=101),\n",
       " Row(sessionId=532, itemInSession=102),\n",
       " Row(sessionId=532, itemInSession=103),\n",
       " Row(sessionId=532, itemInSession=104),\n",
       " Row(sessionId=532, itemInSession=105),\n",
       " Row(sessionId=532, itemInSession=106),\n",
       " Row(sessionId=532, itemInSession=107),\n",
       " Row(sessionId=532, itemInSession=108),\n",
       " Row(sessionId=532, itemInSession=109),\n",
       " Row(sessionId=532, itemInSession=110),\n",
       " Row(sessionId=532, itemInSession=111),\n",
       " Row(sessionId=532, itemInSession=112),\n",
       " Row(sessionId=532, itemInSession=113),\n",
       " Row(sessionId=532, itemInSession=114),\n",
       " Row(sessionId=532, itemInSession=115),\n",
       " Row(sessionId=532, itemInSession=116),\n",
       " Row(sessionId=532, itemInSession=117),\n",
       " Row(sessionId=532, itemInSession=118),\n",
       " Row(sessionId=532, itemInSession=119),\n",
       " Row(sessionId=532, itemInSession=120),\n",
       " Row(sessionId=532, itemInSession=121),\n",
       " Row(sessionId=532, itemInSession=122),\n",
       " Row(sessionId=532, itemInSession=123),\n",
       " Row(sessionId=532, itemInSession=124),\n",
       " Row(sessionId=532, itemInSession=125),\n",
       " Row(sessionId=532, itemInSession=126),\n",
       " Row(sessionId=532, itemInSession=127),\n",
       " Row(sessionId=532, itemInSession=128),\n",
       " Row(sessionId=532, itemInSession=129),\n",
       " Row(sessionId=532, itemInSession=130),\n",
       " Row(sessionId=532, itemInSession=131),\n",
       " Row(sessionId=532, itemInSession=132),\n",
       " Row(sessionId=532, itemInSession=133),\n",
       " Row(sessionId=532, itemInSession=134),\n",
       " Row(sessionId=532, itemInSession=135),\n",
       " Row(sessionId=532, itemInSession=136),\n",
       " Row(sessionId=532, itemInSession=137),\n",
       " Row(sessionId=532, itemInSession=138),\n",
       " Row(sessionId=532, itemInSession=139),\n",
       " Row(sessionId=532, itemInSession=140),\n",
       " Row(sessionId=532, itemInSession=141),\n",
       " Row(sessionId=532, itemInSession=142),\n",
       " Row(sessionId=532, itemInSession=143),\n",
       " Row(sessionId=532, itemInSession=144),\n",
       " Row(sessionId=532, itemInSession=145),\n",
       " Row(sessionId=532, itemInSession=146),\n",
       " Row(sessionId=532, itemInSession=147),\n",
       " Row(sessionId=532, itemInSession=148),\n",
       " Row(sessionId=532, itemInSession=149),\n",
       " Row(sessionId=532, itemInSession=150),\n",
       " Row(sessionId=532, itemInSession=151),\n",
       " Row(sessionId=532, itemInSession=152),\n",
       " Row(sessionId=532, itemInSession=153),\n",
       " Row(sessionId=532, itemInSession=154),\n",
       " Row(sessionId=532, itemInSession=155),\n",
       " Row(sessionId=532, itemInSession=156),\n",
       " Row(sessionId=532, itemInSession=157),\n",
       " Row(sessionId=532, itemInSession=158),\n",
       " Row(sessionId=532, itemInSession=159),\n",
       " Row(sessionId=532, itemInSession=160),\n",
       " Row(sessionId=532, itemInSession=161),\n",
       " Row(sessionId=532, itemInSession=162),\n",
       " Row(sessionId=532, itemInSession=163),\n",
       " Row(sessionId=532, itemInSession=164),\n",
       " Row(sessionId=532, itemInSession=165),\n",
       " Row(sessionId=532, itemInSession=166),\n",
       " Row(sessionId=532, itemInSession=167),\n",
       " Row(sessionId=532, itemInSession=168),\n",
       " Row(sessionId=532, itemInSession=169),\n",
       " Row(sessionId=532, itemInSession=170),\n",
       " Row(sessionId=532, itemInSession=171),\n",
       " Row(sessionId=532, itemInSession=172),\n",
       " Row(sessionId=532, itemInSession=173),\n",
       " Row(sessionId=532, itemInSession=174),\n",
       " Row(sessionId=532, itemInSession=175),\n",
       " Row(sessionId=532, itemInSession=176),\n",
       " Row(sessionId=532, itemInSession=177),\n",
       " Row(sessionId=532, itemInSession=178),\n",
       " Row(sessionId=532, itemInSession=179),\n",
       " Row(sessionId=532, itemInSession=180),\n",
       " Row(sessionId=532, itemInSession=181),\n",
       " Row(sessionId=532, itemInSession=182),\n",
       " Row(sessionId=532, itemInSession=183),\n",
       " Row(sessionId=532, itemInSession=184),\n",
       " Row(sessionId=532, itemInSession=185),\n",
       " Row(sessionId=532, itemInSession=186),\n",
       " Row(sessionId=532, itemInSession=187),\n",
       " Row(sessionId=532, itemInSession=188),\n",
       " Row(sessionId=532, itemInSession=189),\n",
       " Row(sessionId=532, itemInSession=190),\n",
       " Row(sessionId=532, itemInSession=191),\n",
       " Row(sessionId=532, itemInSession=192),\n",
       " Row(sessionId=532, itemInSession=193),\n",
       " Row(sessionId=532, itemInSession=194),\n",
       " Row(sessionId=532, itemInSession=195),\n",
       " Row(sessionId=532, itemInSession=196),\n",
       " Row(sessionId=532, itemInSession=197),\n",
       " Row(sessionId=532, itemInSession=198),\n",
       " Row(sessionId=532, itemInSession=199),\n",
       " Row(sessionId=532, itemInSession=200),\n",
       " Row(sessionId=532, itemInSession=201),\n",
       " Row(sessionId=532, itemInSession=202),\n",
       " Row(sessionId=532, itemInSession=203),\n",
       " Row(sessionId=532, itemInSession=204),\n",
       " Row(sessionId=532, itemInSession=205),\n",
       " Row(sessionId=532, itemInSession=206),\n",
       " Row(sessionId=532, itemInSession=207),\n",
       " Row(sessionId=532, itemInSession=208),\n",
       " Row(sessionId=532, itemInSession=209),\n",
       " Row(sessionId=532, itemInSession=210),\n",
       " Row(sessionId=532, itemInSession=211),\n",
       " Row(sessionId=532, itemInSession=212),\n",
       " Row(sessionId=532, itemInSession=213),\n",
       " Row(sessionId=532, itemInSession=214),\n",
       " Row(sessionId=532, itemInSession=215),\n",
       " Row(sessionId=532, itemInSession=216),\n",
       " Row(sessionId=532, itemInSession=217),\n",
       " Row(sessionId=532, itemInSession=218),\n",
       " Row(sessionId=532, itemInSession=219),\n",
       " Row(sessionId=532, itemInSession=220),\n",
       " Row(sessionId=532, itemInSession=221),\n",
       " Row(sessionId=532, itemInSession=222),\n",
       " Row(sessionId=532, itemInSession=223),\n",
       " Row(sessionId=532, itemInSession=224),\n",
       " Row(sessionId=532, itemInSession=225),\n",
       " Row(sessionId=532, itemInSession=226),\n",
       " Row(sessionId=532, itemInSession=227),\n",
       " Row(sessionId=532, itemInSession=228),\n",
       " Row(sessionId=532, itemInSession=229),\n",
       " Row(sessionId=532, itemInSession=230),\n",
       " Row(sessionId=532, itemInSession=231),\n",
       " Row(sessionId=532, itemInSession=232),\n",
       " Row(sessionId=532, itemInSession=233),\n",
       " Row(sessionId=532, itemInSession=234),\n",
       " Row(sessionId=532, itemInSession=235),\n",
       " Row(sessionId=532, itemInSession=236),\n",
       " Row(sessionId=532, itemInSession=237),\n",
       " Row(sessionId=532, itemInSession=238),\n",
       " Row(sessionId=532, itemInSession=239),\n",
       " Row(sessionId=532, itemInSession=240),\n",
       " Row(sessionId=532, itemInSession=241),\n",
       " Row(sessionId=532, itemInSession=242),\n",
       " Row(sessionId=532, itemInSession=243),\n",
       " Row(sessionId=532, itemInSession=244),\n",
       " Row(sessionId=532, itemInSession=245),\n",
       " Row(sessionId=532, itemInSession=246),\n",
       " Row(sessionId=532, itemInSession=247),\n",
       " Row(sessionId=532, itemInSession=248),\n",
       " Row(sessionId=532, itemInSession=249),\n",
       " Row(sessionId=532, itemInSession=250),\n",
       " Row(sessionId=532, itemInSession=251),\n",
       " Row(sessionId=532, itemInSession=252),\n",
       " Row(sessionId=532, itemInSession=253),\n",
       " Row(sessionId=532, itemInSession=254),\n",
       " Row(sessionId=532, itemInSession=255),\n",
       " Row(sessionId=532, itemInSession=256),\n",
       " Row(sessionId=532, itemInSession=257),\n",
       " Row(sessionId=532, itemInSession=258),\n",
       " Row(sessionId=532, itemInSession=259),\n",
       " Row(sessionId=532, itemInSession=260),\n",
       " Row(sessionId=532, itemInSession=261),\n",
       " Row(sessionId=532, itemInSession=262),\n",
       " Row(sessionId=532, itemInSession=263),\n",
       " Row(sessionId=532, itemInSession=264),\n",
       " Row(sessionId=532, itemInSession=265),\n",
       " Row(sessionId=532, itemInSession=266),\n",
       " Row(sessionId=532, itemInSession=267),\n",
       " Row(sessionId=532, itemInSession=268),\n",
       " Row(sessionId=532, itemInSession=269),\n",
       " Row(sessionId=532, itemInSession=270),\n",
       " Row(sessionId=532, itemInSession=271),\n",
       " Row(sessionId=532, itemInSession=272),\n",
       " Row(sessionId=532, itemInSession=273),\n",
       " Row(sessionId=532, itemInSession=274),\n",
       " Row(sessionId=532, itemInSession=275),\n",
       " Row(sessionId=532, itemInSession=276),\n",
       " Row(sessionId=532, itemInSession=277),\n",
       " Row(sessionId=532, itemInSession=278),\n",
       " Row(sessionId=532, itemInSession=279),\n",
       " Row(sessionId=532, itemInSession=280),\n",
       " Row(sessionId=532, itemInSession=281),\n",
       " Row(sessionId=532, itemInSession=282),\n",
       " Row(sessionId=532, itemInSession=283),\n",
       " Row(sessionId=532, itemInSession=284),\n",
       " Row(sessionId=532, itemInSession=285),\n",
       " Row(sessionId=532, itemInSession=286),\n",
       " Row(sessionId=532, itemInSession=287),\n",
       " Row(sessionId=532, itemInSession=288),\n",
       " Row(sessionId=532, itemInSession=289),\n",
       " Row(sessionId=614, itemInSession=0),\n",
       " Row(sessionId=614, itemInSession=1),\n",
       " Row(sessionId=614, itemInSession=2),\n",
       " Row(sessionId=614, itemInSession=3),\n",
       " Row(sessionId=614, itemInSession=4),\n",
       " Row(sessionId=614, itemInSession=5),\n",
       " Row(sessionId=682, itemInSession=0),\n",
       " Row(sessionId=682, itemInSession=1),\n",
       " Row(sessionId=757, itemInSession=0),\n",
       " Row(sessionId=757, itemInSession=1),\n",
       " Row(sessionId=757, itemInSession=2),\n",
       " Row(sessionId=757, itemInSession=3),\n",
       " Row(sessionId=757, itemInSession=4),\n",
       " Row(sessionId=757, itemInSession=5),\n",
       " Row(sessionId=757, itemInSession=6),\n",
       " Row(sessionId=757, itemInSession=7),\n",
       " Row(sessionId=757, itemInSession=8),\n",
       " Row(sessionId=757, itemInSession=9),\n",
       " Row(sessionId=757, itemInSession=10),\n",
       " Row(sessionId=757, itemInSession=11),\n",
       " Row(sessionId=757, itemInSession=12),\n",
       " Row(sessionId=757, itemInSession=13),\n",
       " Row(sessionId=757, itemInSession=14),\n",
       " Row(sessionId=757, itemInSession=15),\n",
       " Row(sessionId=757, itemInSession=16),\n",
       " Row(sessionId=757, itemInSession=17),\n",
       " Row(sessionId=757, itemInSession=18),\n",
       " Row(sessionId=757, itemInSession=19),\n",
       " Row(sessionId=757, itemInSession=20),\n",
       " Row(sessionId=757, itemInSession=21),\n",
       " Row(sessionId=757, itemInSession=22),\n",
       " Row(sessionId=757, itemInSession=23),\n",
       " Row(sessionId=757, itemInSession=24),\n",
       " Row(sessionId=757, itemInSession=25),\n",
       " Row(sessionId=757, itemInSession=26),\n",
       " Row(sessionId=763, itemInSession=0),\n",
       " Row(sessionId=763, itemInSession=1),\n",
       " Row(sessionId=763, itemInSession=2),\n",
       " Row(sessionId=763, itemInSession=3),\n",
       " Row(sessionId=763, itemInSession=4),\n",
       " Row(sessionId=763, itemInSession=5),\n",
       " Row(sessionId=763, itemInSession=6),\n",
       " Row(sessionId=763, itemInSession=7),\n",
       " Row(sessionId=763, itemInSession=8),\n",
       " Row(sessionId=763, itemInSession=9),\n",
       " Row(sessionId=763, itemInSession=10),\n",
       " Row(sessionId=763, itemInSession=11),\n",
       " Row(sessionId=763, itemInSession=12),\n",
       " Row(sessionId=763, itemInSession=13),\n",
       " Row(sessionId=763, itemInSession=14),\n",
       " Row(sessionId=763, itemInSession=15),\n",
       " Row(sessionId=763, itemInSession=16),\n",
       " Row(sessionId=763, itemInSession=17),\n",
       " Row(sessionId=763, itemInSession=18),\n",
       " Row(sessionId=763, itemInSession=19),\n",
       " Row(sessionId=763, itemInSession=20),\n",
       " Row(sessionId=763, itemInSession=21),\n",
       " Row(sessionId=763, itemInSession=22),\n",
       " Row(sessionId=763, itemInSession=23),\n",
       " Row(sessionId=763, itemInSession=24),\n",
       " Row(sessionId=763, itemInSession=25),\n",
       " Row(sessionId=763, itemInSession=26),\n",
       " Row(sessionId=763, itemInSession=27),\n",
       " Row(sessionId=763, itemInSession=28),\n",
       " Row(sessionId=763, itemInSession=29),\n",
       " Row(sessionId=763, itemInSession=30),\n",
       " Row(sessionId=763, itemInSession=31),\n",
       " Row(sessionId=816, itemInSession=1),\n",
       " Row(sessionId=816, itemInSession=2),\n",
       " Row(sessionId=816, itemInSession=3),\n",
       " Row(sessionId=816, itemInSession=4),\n",
       " Row(sessionId=816, itemInSession=5),\n",
       " Row(sessionId=816, itemInSession=6),\n",
       " Row(sessionId=816, itemInSession=7),\n",
       " Row(sessionId=816, itemInSession=8),\n",
       " Row(sessionId=816, itemInSession=9),\n",
       " Row(sessionId=816, itemInSession=10),\n",
       " Row(sessionId=816, itemInSession=11),\n",
       " Row(sessionId=816, itemInSession=12),\n",
       " Row(sessionId=816, itemInSession=13),\n",
       " Row(sessionId=816, itemInSession=14),\n",
       " Row(sessionId=816, itemInSession=15),\n",
       " Row(sessionId=816, itemInSession=16),\n",
       " Row(sessionId=816, itemInSession=17),\n",
       " Row(sessionId=816, itemInSession=18),\n",
       " Row(sessionId=816, itemInSession=19),\n",
       " Row(sessionId=816, itemInSession=20),\n",
       " Row(sessionId=816, itemInSession=21),\n",
       " Row(sessionId=816, itemInSession=22),\n",
       " Row(sessionId=816, itemInSession=23),\n",
       " Row(sessionId=816, itemInSession=24),\n",
       " Row(sessionId=816, itemInSession=25),\n",
       " Row(sessionId=816, itemInSession=26),\n",
       " Row(sessionId=816, itemInSession=27),\n",
       " Row(sessionId=816, itemInSession=28),\n",
       " Row(sessionId=816, itemInSession=29),\n",
       " Row(sessionId=816, itemInSession=30),\n",
       " Row(sessionId=816, itemInSession=33),\n",
       " Row(sessionId=816, itemInSession=34),\n",
       " Row(sessionId=816, itemInSession=35),\n",
       " Row(sessionId=816, itemInSession=36),\n",
       " Row(sessionId=816, itemInSession=37),\n",
       " Row(sessionId=816, itemInSession=38),\n",
       " Row(sessionId=816, itemInSession=39),\n",
       " Row(sessionId=816, itemInSession=40),\n",
       " Row(sessionId=816, itemInSession=41),\n",
       " Row(sessionId=816, itemInSession=42),\n",
       " Row(sessionId=816, itemInSession=43),\n",
       " Row(sessionId=816, itemInSession=44),\n",
       " Row(sessionId=816, itemInSession=45),\n",
       " Row(sessionId=816, itemInSession=46),\n",
       " Row(sessionId=816, itemInSession=47),\n",
       " Row(sessionId=816, itemInSession=48),\n",
       " Row(sessionId=816, itemInSession=49),\n",
       " Row(sessionId=816, itemInSession=50),\n",
       " Row(sessionId=816, itemInSession=51),\n",
       " Row(sessionId=816, itemInSession=52),\n",
       " Row(sessionId=816, itemInSession=53),\n",
       " Row(sessionId=816, itemInSession=54),\n",
       " Row(sessionId=816, itemInSession=55),\n",
       " Row(sessionId=816, itemInSession=56),\n",
       " Row(sessionId=816, itemInSession=57),\n",
       " Row(sessionId=816, itemInSession=58),\n",
       " Row(sessionId=816, itemInSession=59),\n",
       " Row(sessionId=816, itemInSession=60),\n",
       " Row(sessionId=816, itemInSession=61),\n",
       " Row(sessionId=816, itemInSession=62),\n",
       " Row(sessionId=816, itemInSession=63),\n",
       " Row(sessionId=816, itemInSession=64),\n",
       " Row(sessionId=816, itemInSession=65),\n",
       " Row(sessionId=816, itemInSession=66),\n",
       " Row(sessionId=816, itemInSession=67),\n",
       " Row(sessionId=816, itemInSession=68),\n",
       " Row(sessionId=816, itemInSession=69),\n",
       " Row(sessionId=816, itemInSession=70),\n",
       " Row(sessionId=816, itemInSession=75),\n",
       " Row(sessionId=816, itemInSession=76),\n",
       " Row(sessionId=816, itemInSession=77),\n",
       " Row(sessionId=816, itemInSession=78),\n",
       " Row(sessionId=816, itemInSession=79),\n",
       " Row(sessionId=816, itemInSession=80),\n",
       " Row(sessionId=816, itemInSession=81),\n",
       " Row(sessionId=816, itemInSession=82),\n",
       " Row(sessionId=816, itemInSession=83),\n",
       " Row(sessionId=892, itemInSession=0),\n",
       " Row(sessionId=892, itemInSession=1),\n",
       " Row(sessionId=945, itemInSession=2),\n",
       " Row(sessionId=1110, itemInSession=0),\n",
       " Row(sessionId=1110, itemInSession=1),\n",
       " Row(sessionId=1110, itemInSession=2),\n",
       " Row(sessionId=1110, itemInSession=3),\n",
       " Row(sessionId=1110, itemInSession=4),\n",
       " Row(sessionId=1110, itemInSession=5),\n",
       " Row(sessionId=1110, itemInSession=6),\n",
       " Row(sessionId=1110, itemInSession=7),\n",
       " Row(sessionId=1110, itemInSession=8),\n",
       " Row(sessionId=1110, itemInSession=9),\n",
       " Row(sessionId=1110, itemInSession=10),\n",
       " Row(sessionId=1110, itemInSession=11),\n",
       " Row(sessionId=1110, itemInSession=12),\n",
       " Row(sessionId=1110, itemInSession=13),\n",
       " Row(sessionId=1110, itemInSession=14),\n",
       " Row(sessionId=1110, itemInSession=15),\n",
       " Row(sessionId=1110, itemInSession=16),\n",
       " Row(sessionId=1110, itemInSession=17),\n",
       " Row(sessionId=1110, itemInSession=18),\n",
       " Row(sessionId=1110, itemInSession=19),\n",
       " Row(sessionId=1110, itemInSession=20),\n",
       " Row(sessionId=1110, itemInSession=21),\n",
       " Row(sessionId=1110, itemInSession=22),\n",
       " Row(sessionId=1110, itemInSession=23),\n",
       " Row(sessionId=1110, itemInSession=24),\n",
       " Row(sessionId=1110, itemInSession=25),\n",
       " Row(sessionId=1110, itemInSession=26),\n",
       " Row(sessionId=1110, itemInSession=27),\n",
       " Row(sessionId=1110, itemInSession=28),\n",
       " Row(sessionId=1110, itemInSession=29),\n",
       " Row(sessionId=1110, itemInSession=30),\n",
       " Row(sessionId=1184, itemInSession=0),\n",
       " Row(sessionId=1184, itemInSession=1),\n",
       " Row(sessionId=1184, itemInSession=2),\n",
       " Row(sessionId=1184, itemInSession=3),\n",
       " Row(sessionId=1184, itemInSession=4),\n",
       " Row(sessionId=1184, itemInSession=5),\n",
       " Row(sessionId=1184, itemInSession=6),\n",
       " Row(sessionId=1184, itemInSession=7),\n",
       " Row(sessionId=1184, itemInSession=8),\n",
       " Row(sessionId=1184, itemInSession=9),\n",
       " Row(sessionId=1184, itemInSession=10),\n",
       " Row(sessionId=1184, itemInSession=11),\n",
       " Row(sessionId=1184, itemInSession=12),\n",
       " Row(sessionId=1184, itemInSession=13),\n",
       " Row(sessionId=1184, itemInSession=14),\n",
       " Row(sessionId=1184, itemInSession=15),\n",
       " Row(sessionId=1184, itemInSession=16),\n",
       " Row(sessionId=1184, itemInSession=17),\n",
       " Row(sessionId=1184, itemInSession=18),\n",
       " Row(sessionId=1184, itemInSession=19),\n",
       " Row(sessionId=1184, itemInSession=20),\n",
       " Row(sessionId=1184, itemInSession=21),\n",
       " Row(sessionId=1184, itemInSession=22),\n",
       " Row(sessionId=1184, itemInSession=23),\n",
       " Row(sessionId=1184, itemInSession=24),\n",
       " Row(sessionId=1184, itemInSession=25),\n",
       " Row(sessionId=1184, itemInSession=26),\n",
       " Row(sessionId=1184, itemInSession=27),\n",
       " Row(sessionId=1184, itemInSession=28),\n",
       " Row(sessionId=1184, itemInSession=29),\n",
       " Row(sessionId=1184, itemInSession=30),\n",
       " Row(sessionId=1184, itemInSession=31),\n",
       " Row(sessionId=1184, itemInSession=32),\n",
       " Row(sessionId=1304, itemInSession=0),\n",
       " Row(sessionId=1304, itemInSession=1),\n",
       " Row(sessionId=1304, itemInSession=2),\n",
       " Row(sessionId=1311, itemInSession=0),\n",
       " Row(sessionId=1311, itemInSession=1),\n",
       " Row(sessionId=1311, itemInSession=2),\n",
       " Row(sessionId=1311, itemInSession=3),\n",
       " Row(sessionId=1311, itemInSession=4),\n",
       " Row(sessionId=1311, itemInSession=5),\n",
       " Row(sessionId=1311, itemInSession=6),\n",
       " Row(sessionId=1311, itemInSession=7),\n",
       " Row(sessionId=1311, itemInSession=8),\n",
       " Row(sessionId=1311, itemInSession=9),\n",
       " Row(sessionId=1311, itemInSession=10),\n",
       " Row(sessionId=1311, itemInSession=11),\n",
       " Row(sessionId=1311, itemInSession=12),\n",
       " Row(sessionId=1311, itemInSession=13),\n",
       " Row(sessionId=1311, itemInSession=14),\n",
       " Row(sessionId=1311, itemInSession=15),\n",
       " Row(sessionId=1311, itemInSession=16),\n",
       " Row(sessionId=1311, itemInSession=17),\n",
       " Row(sessionId=1311, itemInSession=18),\n",
       " Row(sessionId=1311, itemInSession=19),\n",
       " Row(sessionId=1311, itemInSession=20),\n",
       " Row(sessionId=1311, itemInSession=21),\n",
       " Row(sessionId=1311, itemInSession=22),\n",
       " Row(sessionId=1311, itemInSession=23),\n",
       " Row(sessionId=1311, itemInSession=24),\n",
       " Row(sessionId=1311, itemInSession=25),\n",
       " Row(sessionId=1311, itemInSession=26),\n",
       " Row(sessionId=1311, itemInSession=27),\n",
       " Row(sessionId=1311, itemInSession=28),\n",
       " Row(sessionId=1311, itemInSession=29),\n",
       " Row(sessionId=1311, itemInSession=30),\n",
       " Row(sessionId=1311, itemInSession=31),\n",
       " Row(sessionId=1311, itemInSession=32),\n",
       " Row(sessionId=1311, itemInSession=33),\n",
       " Row(sessionId=1311, itemInSession=34),\n",
       " Row(sessionId=1311, itemInSession=35),\n",
       " Row(sessionId=1311, itemInSession=38),\n",
       " Row(sessionId=1311, itemInSession=39),\n",
       " Row(sessionId=1311, itemInSession=40),\n",
       " Row(sessionId=1311, itemInSession=41),\n",
       " Row(sessionId=1311, itemInSession=42),\n",
       " Row(sessionId=1311, itemInSession=43),\n",
       " Row(sessionId=1311, itemInSession=44),\n",
       " Row(sessionId=1311, itemInSession=45),\n",
       " Row(sessionId=1311, itemInSession=46),\n",
       " Row(sessionId=1311, itemInSession=47),\n",
       " Row(sessionId=1311, itemInSession=48),\n",
       " Row(sessionId=1311, itemInSession=49),\n",
       " Row(sessionId=1311, itemInSession=50),\n",
       " Row(sessionId=1311, itemInSession=51),\n",
       " Row(sessionId=1311, itemInSession=52),\n",
       " Row(sessionId=1311, itemInSession=53),\n",
       " Row(sessionId=1311, itemInSession=54),\n",
       " Row(sessionId=1311, itemInSession=55),\n",
       " Row(sessionId=1311, itemInSession=56),\n",
       " Row(sessionId=1311, itemInSession=57),\n",
       " Row(sessionId=1311, itemInSession=58),\n",
       " Row(sessionId=1311, itemInSession=59),\n",
       " Row(sessionId=1311, itemInSession=60),\n",
       " Row(sessionId=1311, itemInSession=61),\n",
       " Row(sessionId=1340, itemInSession=0),\n",
       " Row(sessionId=1340, itemInSession=1),\n",
       " Row(sessionId=1340, itemInSession=2),\n",
       " Row(sessionId=1340, itemInSession=3),\n",
       " Row(sessionId=1340, itemInSession=4),\n",
       " Row(sessionId=1340, itemInSession=5),\n",
       " Row(sessionId=1340, itemInSession=6),\n",
       " Row(sessionId=1340, itemInSession=7),\n",
       " Row(sessionId=1340, itemInSession=8),\n",
       " Row(sessionId=1340, itemInSession=9),\n",
       " Row(sessionId=1340, itemInSession=10),\n",
       " Row(sessionId=1340, itemInSession=11),\n",
       " Row(sessionId=1340, itemInSession=12),\n",
       " Row(sessionId=1340, itemInSession=13),\n",
       " Row(sessionId=1340, itemInSession=16),\n",
       " Row(sessionId=1340, itemInSession=17),\n",
       " Row(sessionId=1340, itemInSession=18),\n",
       " Row(sessionId=1340, itemInSession=19),\n",
       " Row(sessionId=1340, itemInSession=20),\n",
       " Row(sessionId=1340, itemInSession=21),\n",
       " Row(sessionId=1340, itemInSession=22),\n",
       " Row(sessionId=1340, itemInSession=23),\n",
       " Row(sessionId=1340, itemInSession=24),\n",
       " Row(sessionId=1340, itemInSession=25),\n",
       " Row(sessionId=1340, itemInSession=26),\n",
       " Row(sessionId=1340, itemInSession=27),\n",
       " Row(sessionId=1340, itemInSession=28),\n",
       " Row(sessionId=1340, itemInSession=29),\n",
       " Row(sessionId=1340, itemInSession=30),\n",
       " Row(sessionId=1340, itemInSession=31),\n",
       " Row(sessionId=1340, itemInSession=32),\n",
       " Row(sessionId=1340, itemInSession=33),\n",
       " Row(sessionId=1340, itemInSession=34),\n",
       " Row(sessionId=1340, itemInSession=35),\n",
       " Row(sessionId=1340, itemInSession=36),\n",
       " Row(sessionId=1340, itemInSession=37),\n",
       " Row(sessionId=1340, itemInSession=38),\n",
       " Row(sessionId=1340, itemInSession=39),\n",
       " Row(sessionId=1340, itemInSession=40),\n",
       " Row(sessionId=1340, itemInSession=41),\n",
       " Row(sessionId=1340, itemInSession=42),\n",
       " Row(sessionId=1340, itemInSession=43),\n",
       " Row(sessionId=1340, itemInSession=44),\n",
       " Row(sessionId=1340, itemInSession=45),\n",
       " Row(sessionId=1340, itemInSession=46),\n",
       " Row(sessionId=1340, itemInSession=47),\n",
       " Row(sessionId=1340, itemInSession=48),\n",
       " Row(sessionId=1340, itemInSession=49),\n",
       " Row(sessionId=1340, itemInSession=50),\n",
       " Row(sessionId=1340, itemInSession=51),\n",
       " Row(sessionId=1340, itemInSession=52),\n",
       " Row(sessionId=1340, itemInSession=53),\n",
       " Row(sessionId=1340, itemInSession=54),\n",
       " Row(sessionId=1340, itemInSession=55),\n",
       " Row(sessionId=1340, itemInSession=56),\n",
       " Row(sessionId=1340, itemInSession=57),\n",
       " Row(sessionId=1340, itemInSession=58),\n",
       " Row(sessionId=1340, itemInSession=59),\n",
       " Row(sessionId=1340, itemInSession=60),\n",
       " Row(sessionId=1340, itemInSession=61),\n",
       " Row(sessionId=1340, itemInSession=62),\n",
       " Row(sessionId=1340, itemInSession=63),\n",
       " Row(sessionId=1340, itemInSession=64),\n",
       " Row(sessionId=1340, itemInSession=65),\n",
       " Row(sessionId=1340, itemInSession=66),\n",
       " Row(sessionId=1340, itemInSession=67),\n",
       " Row(sessionId=1340, itemInSession=68),\n",
       " Row(sessionId=1340, itemInSession=69),\n",
       " Row(sessionId=1340, itemInSession=70),\n",
       " Row(sessionId=1340, itemInSession=71),\n",
       " Row(sessionId=1340, itemInSession=72),\n",
       " Row(sessionId=1340, itemInSession=73),\n",
       " Row(sessionId=1340, itemInSession=74),\n",
       " Row(sessionId=1340, itemInSession=75),\n",
       " Row(sessionId=1340, itemInSession=76),\n",
       " Row(sessionId=1340, itemInSession=77),\n",
       " Row(sessionId=1340, itemInSession=78),\n",
       " Row(sessionId=1340, itemInSession=79),\n",
       " Row(sessionId=1340, itemInSession=80),\n",
       " Row(sessionId=1340, itemInSession=81),\n",
       " Row(sessionId=1340, itemInSession=82),\n",
       " Row(sessionId=1340, itemInSession=83),\n",
       " Row(sessionId=1340, itemInSession=84),\n",
       " Row(sessionId=1340, itemInSession=85),\n",
       " Row(sessionId=1340, itemInSession=86),\n",
       " Row(sessionId=1340, itemInSession=87),\n",
       " Row(sessionId=1340, itemInSession=88),\n",
       " Row(sessionId=1340, itemInSession=89),\n",
       " Row(sessionId=1340, itemInSession=90),\n",
       " Row(sessionId=1340, itemInSession=91),\n",
       " Row(sessionId=1340, itemInSession=92),\n",
       " Row(sessionId=1340, itemInSession=93),\n",
       " Row(sessionId=1340, itemInSession=94),\n",
       " Row(sessionId=1340, itemInSession=95),\n",
       " Row(sessionId=1340, itemInSession=96),\n",
       " Row(sessionId=1340, itemInSession=97),\n",
       " Row(sessionId=1340, itemInSession=98),\n",
       " Row(sessionId=1340, itemInSession=101),\n",
       " Row(sessionId=1340, itemInSession=102),\n",
       " Row(sessionId=1340, itemInSession=103),\n",
       " Row(sessionId=1340, itemInSession=104),\n",
       " Row(sessionId=1340, itemInSession=105),\n",
       " Row(sessionId=1340, itemInSession=106),\n",
       " Row(sessionId=1340, itemInSession=107),\n",
       " Row(sessionId=1340, itemInSession=108),\n",
       " Row(sessionId=1340, itemInSession=109),\n",
       " Row(sessionId=1477, itemInSession=0),\n",
       " Row(sessionId=1477, itemInSession=1),\n",
       " Row(sessionId=1477, itemInSession=2),\n",
       " Row(sessionId=1477, itemInSession=3),\n",
       " Row(sessionId=1477, itemInSession=4),\n",
       " Row(sessionId=1477, itemInSession=5),\n",
       " Row(sessionId=1477, itemInSession=6),\n",
       " Row(sessionId=1477, itemInSession=7),\n",
       " Row(sessionId=1477, itemInSession=8),\n",
       " Row(sessionId=1477, itemInSession=9),\n",
       " Row(sessionId=1477, itemInSession=10),\n",
       " Row(sessionId=1477, itemInSession=11),\n",
       " Row(sessionId=1477, itemInSession=12),\n",
       " Row(sessionId=1477, itemInSession=13),\n",
       " Row(sessionId=1477, itemInSession=14),\n",
       " Row(sessionId=1477, itemInSession=15),\n",
       " Row(sessionId=1477, itemInSession=18),\n",
       " Row(sessionId=1477, itemInSession=19),\n",
       " Row(sessionId=1477, itemInSession=20),\n",
       " Row(sessionId=1477, itemInSession=21),\n",
       " Row(sessionId=1477, itemInSession=22),\n",
       " Row(sessionId=1477, itemInSession=23),\n",
       " Row(sessionId=1477, itemInSession=24),\n",
       " Row(sessionId=1477, itemInSession=25),\n",
       " Row(sessionId=1477, itemInSession=26),\n",
       " Row(sessionId=1477, itemInSession=27),\n",
       " Row(sessionId=1477, itemInSession=28),\n",
       " Row(sessionId=1477, itemInSession=29),\n",
       " Row(sessionId=1477, itemInSession=30),\n",
       " Row(sessionId=1477, itemInSession=31),\n",
       " Row(sessionId=1477, itemInSession=32),\n",
       " Row(sessionId=1477, itemInSession=33),\n",
       " Row(sessionId=1477, itemInSession=34),\n",
       " Row(sessionId=1477, itemInSession=35),\n",
       " Row(sessionId=1477, itemInSession=36),\n",
       " Row(sessionId=1477, itemInSession=37),\n",
       " Row(sessionId=1477, itemInSession=38),\n",
       " Row(sessionId=1477, itemInSession=39),\n",
       " Row(sessionId=1477, itemInSession=40),\n",
       " Row(sessionId=1477, itemInSession=41),\n",
       " Row(sessionId=1477, itemInSession=42),\n",
       " Row(sessionId=1477, itemInSession=43),\n",
       " Row(sessionId=1477, itemInSession=44),\n",
       " Row(sessionId=1477, itemInSession=45),\n",
       " Row(sessionId=1477, itemInSession=46),\n",
       " Row(sessionId=1477, itemInSession=47),\n",
       " Row(sessionId=1477, itemInSession=48),\n",
       " Row(sessionId=1477, itemInSession=49),\n",
       " Row(sessionId=1477, itemInSession=50),\n",
       " Row(sessionId=1477, itemInSession=51),\n",
       " Row(sessionId=1477, itemInSession=52),\n",
       " Row(sessionId=1477, itemInSession=53),\n",
       " Row(sessionId=1477, itemInSession=54),\n",
       " Row(sessionId=1477, itemInSession=55),\n",
       " Row(sessionId=1477, itemInSession=56),\n",
       " Row(sessionId=1477, itemInSession=57),\n",
       " Row(sessionId=1477, itemInSession=58),\n",
       " Row(sessionId=1477, itemInSession=59),\n",
       " Row(sessionId=1477, itemInSession=60),\n",
       " Row(sessionId=1477, itemInSession=61),\n",
       " Row(sessionId=1477, itemInSession=62),\n",
       " Row(sessionId=1477, itemInSession=63),\n",
       " Row(sessionId=1477, itemInSession=64),\n",
       " Row(sessionId=1477, itemInSession=65),\n",
       " Row(sessionId=1477, itemInSession=66),\n",
       " Row(sessionId=1477, itemInSession=67),\n",
       " Row(sessionId=1477, itemInSession=68),\n",
       " Row(sessionId=1477, itemInSession=69),\n",
       " Row(sessionId=1477, itemInSession=70),\n",
       " Row(sessionId=1477, itemInSession=71),\n",
       " Row(sessionId=1477, itemInSession=72),\n",
       " Row(sessionId=1477, itemInSession=73),\n",
       " Row(sessionId=1477, itemInSession=74),\n",
       " Row(sessionId=1477, itemInSession=75),\n",
       " Row(sessionId=1477, itemInSession=76),\n",
       " Row(sessionId=1477, itemInSession=77),\n",
       " Row(sessionId=1477, itemInSession=78),\n",
       " Row(sessionId=1477, itemInSession=79),\n",
       " Row(sessionId=1477, itemInSession=80),\n",
       " Row(sessionId=1496, itemInSession=0),\n",
       " Row(sessionId=1496, itemInSession=1),\n",
       " Row(sessionId=1496, itemInSession=2),\n",
       " Row(sessionId=1496, itemInSession=3),\n",
       " Row(sessionId=1496, itemInSession=4),\n",
       " Row(sessionId=1496, itemInSession=5),\n",
       " Row(sessionId=1496, itemInSession=6),\n",
       " Row(sessionId=1496, itemInSession=7),\n",
       " Row(sessionId=1496, itemInSession=8),\n",
       " Row(sessionId=1496, itemInSession=9),\n",
       " Row(sessionId=1496, itemInSession=10),\n",
       " Row(sessionId=1496, itemInSession=11),\n",
       " Row(sessionId=1496, itemInSession=12),\n",
       " Row(sessionId=1496, itemInSession=13),\n",
       " Row(sessionId=1496, itemInSession=14),\n",
       " Row(sessionId=1496, itemInSession=15),\n",
       " Row(sessionId=1496, itemInSession=16),\n",
       " Row(sessionId=1496, itemInSession=17),\n",
       " Row(sessionId=1496, itemInSession=18),\n",
       " Row(sessionId=1496, itemInSession=19),\n",
       " Row(sessionId=1496, itemInSession=20),\n",
       " Row(sessionId=1496, itemInSession=21),\n",
       " Row(sessionId=1496, itemInSession=22),\n",
       " Row(sessionId=1496, itemInSession=23),\n",
       " Row(sessionId=1496, itemInSession=24),\n",
       " Row(sessionId=1496, itemInSession=25),\n",
       " Row(sessionId=1496, itemInSession=26),\n",
       " Row(sessionId=1496, itemInSession=27),\n",
       " Row(sessionId=1496, itemInSession=28),\n",
       " Row(sessionId=1496, itemInSession=29),\n",
       " Row(sessionId=1496, itemInSession=30),\n",
       " Row(sessionId=1554, itemInSession=0),\n",
       " Row(sessionId=1554, itemInSession=1),\n",
       " Row(sessionId=1554, itemInSession=2),\n",
       " Row(sessionId=1554, itemInSession=3),\n",
       " Row(sessionId=1554, itemInSession=4),\n",
       " Row(sessionId=1554, itemInSession=5),\n",
       " Row(sessionId=1554, itemInSession=6),\n",
       " Row(sessionId=1554, itemInSession=7),\n",
       " Row(sessionId=1554, itemInSession=8),\n",
       " Row(sessionId=1554, itemInSession=9),\n",
       " Row(sessionId=1554, itemInSession=10),\n",
       " Row(sessionId=1554, itemInSession=11),\n",
       " Row(sessionId=1554, itemInSession=12),\n",
       " Row(sessionId=1554, itemInSession=13),\n",
       " Row(sessionId=1554, itemInSession=14),\n",
       " Row(sessionId=1554, itemInSession=15),\n",
       " Row(sessionId=1554, itemInSession=16),\n",
       " Row(sessionId=1554, itemInSession=17),\n",
       " Row(sessionId=1554, itemInSession=18),\n",
       " Row(sessionId=1554, itemInSession=19),\n",
       " Row(sessionId=1554, itemInSession=20),\n",
       " Row(sessionId=1554, itemInSession=21),\n",
       " Row(sessionId=1554, itemInSession=22),\n",
       " Row(sessionId=1554, itemInSession=23),\n",
       " Row(sessionId=1554, itemInSession=24),\n",
       " Row(sessionId=1554, itemInSession=25),\n",
       " Row(sessionId=1554, itemInSession=26),\n",
       " Row(sessionId=1554, itemInSession=27),\n",
       " Row(sessionId=1554, itemInSession=28),\n",
       " Row(sessionId=1554, itemInSession=29),\n",
       " Row(sessionId=1554, itemInSession=30),\n",
       " Row(sessionId=1554, itemInSession=31),\n",
       " Row(sessionId=1554, itemInSession=32),\n",
       " Row(sessionId=1554, itemInSession=35),\n",
       " Row(sessionId=1554, itemInSession=36),\n",
       " Row(sessionId=1554, itemInSession=37),\n",
       " Row(sessionId=1554, itemInSession=38),\n",
       " Row(sessionId=1554, itemInSession=39),\n",
       " Row(sessionId=1554, itemInSession=40),\n",
       " Row(sessionId=1554, itemInSession=41),\n",
       " Row(sessionId=1554, itemInSession=42),\n",
       " Row(sessionId=1554, itemInSession=43),\n",
       " Row(sessionId=1554, itemInSession=44),\n",
       " Row(sessionId=1554, itemInSession=45),\n",
       " Row(sessionId=1554, itemInSession=46),\n",
       " Row(sessionId=1554, itemInSession=47),\n",
       " Row(sessionId=1554, itemInSession=48),\n",
       " Row(sessionId=1554, itemInSession=49),\n",
       " Row(sessionId=1554, itemInSession=50),\n",
       " Row(sessionId=1554, itemInSession=51),\n",
       " Row(sessionId=1554, itemInSession=52),\n",
       " Row(sessionId=1554, itemInSession=53),\n",
       " Row(sessionId=1554, itemInSession=54),\n",
       " Row(sessionId=1554, itemInSession=55),\n",
       " Row(sessionId=1554, itemInSession=56),\n",
       " Row(sessionId=1554, itemInSession=57),\n",
       " Row(sessionId=1554, itemInSession=58),\n",
       " Row(sessionId=1554, itemInSession=59),\n",
       " Row(sessionId=1554, itemInSession=60),\n",
       " Row(sessionId=1554, itemInSession=61),\n",
       " Row(sessionId=1554, itemInSession=62),\n",
       " Row(sessionId=1554, itemInSession=63),\n",
       " Row(sessionId=1554, itemInSession=64),\n",
       " Row(sessionId=1554, itemInSession=65),\n",
       " Row(sessionId=1554, itemInSession=66),\n",
       " Row(sessionId=1554, itemInSession=67),\n",
       " Row(sessionId=1554, itemInSession=68),\n",
       " Row(sessionId=1554, itemInSession=69),\n",
       " Row(sessionId=1554, itemInSession=70),\n",
       " Row(sessionId=1554, itemInSession=71),\n",
       " Row(sessionId=1554, itemInSession=72),\n",
       " Row(sessionId=1554, itemInSession=73),\n",
       " Row(sessionId=1554, itemInSession=74),\n",
       " Row(sessionId=1554, itemInSession=75),\n",
       " Row(sessionId=1554, itemInSession=76),\n",
       " Row(sessionId=1554, itemInSession=77),\n",
       " Row(sessionId=1554, itemInSession=78),\n",
       " Row(sessionId=1554, itemInSession=79),\n",
       " Row(sessionId=1554, itemInSession=80),\n",
       " Row(sessionId=1554, itemInSession=81),\n",
       " Row(sessionId=1554, itemInSession=82),\n",
       " Row(sessionId=1554, itemInSession=85),\n",
       " Row(sessionId=1554, itemInSession=86),\n",
       " Row(sessionId=1554, itemInSession=87),\n",
       " Row(sessionId=1554, itemInSession=88),\n",
       " Row(sessionId=1554, itemInSession=89),\n",
       " Row(sessionId=1554, itemInSession=90),\n",
       " Row(sessionId=1554, itemInSession=91),\n",
       " Row(sessionId=1554, itemInSession=92),\n",
       " Row(sessionId=1554, itemInSession=93),\n",
       " Row(sessionId=1554, itemInSession=94),\n",
       " Row(sessionId=1554, itemInSession=95),\n",
       " Row(sessionId=1554, itemInSession=96),\n",
       " Row(sessionId=1554, itemInSession=97),\n",
       " Row(sessionId=1554, itemInSession=98),\n",
       " Row(sessionId=1554, itemInSession=99),\n",
       " Row(sessionId=1554, itemInSession=100),\n",
       " Row(sessionId=1574, itemInSession=0),\n",
       " Row(sessionId=1574, itemInSession=1),\n",
       " Row(sessionId=1574, itemInSession=2),\n",
       " Row(sessionId=1574, itemInSession=3),\n",
       " Row(sessionId=1574, itemInSession=4),\n",
       " Row(sessionId=1574, itemInSession=5),\n",
       " Row(sessionId=1574, itemInSession=6),\n",
       " Row(sessionId=1574, itemInSession=7),\n",
       " Row(sessionId=1574, itemInSession=8),\n",
       " Row(sessionId=1574, itemInSession=9),\n",
       " Row(sessionId=1574, itemInSession=10),\n",
       " Row(sessionId=1574, itemInSession=11),\n",
       " Row(sessionId=1574, itemInSession=12),\n",
       " Row(sessionId=1574, itemInSession=13),\n",
       " Row(sessionId=1574, itemInSession=14),\n",
       " Row(sessionId=1574, itemInSession=15),\n",
       " Row(sessionId=1574, itemInSession=16),\n",
       " Row(sessionId=1574, itemInSession=17),\n",
       " Row(sessionId=1574, itemInSession=18),\n",
       " Row(sessionId=1574, itemInSession=19),\n",
       " Row(sessionId=1574, itemInSession=20),\n",
       " Row(sessionId=1574, itemInSession=21),\n",
       " Row(sessionId=1574, itemInSession=22),\n",
       " Row(sessionId=1574, itemInSession=23),\n",
       " Row(sessionId=1574, itemInSession=24),\n",
       " Row(sessionId=1574, itemInSession=25),\n",
       " Row(sessionId=1574, itemInSession=26),\n",
       " Row(sessionId=1574, itemInSession=27),\n",
       " Row(sessionId=1574, itemInSession=28),\n",
       " Row(sessionId=1574, itemInSession=29),\n",
       " Row(sessionId=1574, itemInSession=30),\n",
       " Row(sessionId=1574, itemInSession=31),\n",
       " Row(sessionId=1574, itemInSession=32),\n",
       " Row(sessionId=1574, itemInSession=33),\n",
       " Row(sessionId=1574, itemInSession=34),\n",
       " Row(sessionId=1607, itemInSession=0),\n",
       " Row(sessionId=1607, itemInSession=1),\n",
       " Row(sessionId=1607, itemInSession=2),\n",
       " Row(sessionId=1607, itemInSession=3),\n",
       " Row(sessionId=1607, itemInSession=4),\n",
       " Row(sessionId=1607, itemInSession=5),\n",
       " Row(sessionId=1607, itemInSession=6),\n",
       " Row(sessionId=1607, itemInSession=7),\n",
       " Row(sessionId=1607, itemInSession=8),\n",
       " Row(sessionId=1607, itemInSession=9),\n",
       " Row(sessionId=1607, itemInSession=10),\n",
       " Row(sessionId=1607, itemInSession=11),\n",
       " Row(sessionId=1607, itemInSession=12),\n",
       " Row(sessionId=1607, itemInSession=13),\n",
       " Row(sessionId=1607, itemInSession=14),\n",
       " Row(sessionId=1607, itemInSession=15),\n",
       " Row(sessionId=1607, itemInSession=16),\n",
       " Row(sessionId=1607, itemInSession=17),\n",
       " Row(sessionId=1607, itemInSession=20),\n",
       " Row(sessionId=1607, itemInSession=21),\n",
       " Row(sessionId=1607, itemInSession=22),\n",
       " Row(sessionId=1607, itemInSession=23),\n",
       " Row(sessionId=1607, itemInSession=24),\n",
       " Row(sessionId=1607, itemInSession=25),\n",
       " Row(sessionId=1607, itemInSession=26),\n",
       " Row(sessionId=1607, itemInSession=27),\n",
       " Row(sessionId=1607, itemInSession=28),\n",
       " Row(sessionId=1607, itemInSession=29),\n",
       " Row(sessionId=1628, itemInSession=0),\n",
       " Row(sessionId=1628, itemInSession=1),\n",
       " Row(sessionId=1628, itemInSession=2),\n",
       " Row(sessionId=1628, itemInSession=3),\n",
       " Row(sessionId=1628, itemInSession=4),\n",
       " Row(sessionId=1628, itemInSession=5),\n",
       " Row(sessionId=1628, itemInSession=6),\n",
       " Row(sessionId=1628, itemInSession=7),\n",
       " Row(sessionId=1632, itemInSession=0),\n",
       " Row(sessionId=1632, itemInSession=1),\n",
       " Row(sessionId=1632, itemInSession=2),\n",
       " Row(sessionId=1632, itemInSession=3),\n",
       " Row(sessionId=1632, itemInSession=4),\n",
       " Row(sessionId=1632, itemInSession=5),\n",
       " Row(sessionId=1632, itemInSession=6),\n",
       " Row(sessionId=1632, itemInSession=7),\n",
       " ...]"
      ]
     },
     "execution_count": 60,
     "metadata": {},
     "output_type": "execute_result"
    }
   ],
   "source": [
    "# Relationship between sessionId and ItemInSession for a selected user\n",
    "df.filter(df['userId'] == '30').select(['sessionId', 'itemInSession']).collect()"
   ]
  },
  {
   "cell_type": "markdown",
   "metadata": {},
   "source": [
    "One session can have many itemInSession elements"
   ]
  },
  {
   "cell_type": "code",
   "execution_count": 61,
   "metadata": {},
   "outputs": [
    {
     "name": "stdout",
     "output_type": "stream",
     "text": [
      "+-----+------+---------+--------------------+\n",
      "|churn|userId|sessionId|count(itemInSession)|\n",
      "+-----+------+---------+--------------------+\n",
      "|    0|    10|     1592|                  78|\n",
      "|    0|    10|        9|                  70|\n",
      "|    0|    10|     1414|                  78|\n",
      "|    0|    10|      595|                 449|\n",
      "|    0|    10|     1047|                  25|\n",
      "|    0|    10|     1981|                  95|\n",
      "|    0|   100|     2075|                 235|\n",
      "|    0|   100|     1760|                   1|\n",
      "|    0|   100|      369|                 108|\n",
      "|    0|   100|     1473|                 204|\n",
      "|    0|   100|     1590|                 313|\n",
      "|    0|   100|     1782|                   7|\n",
      "|    0|   100|     2428|                  91|\n",
      "|    0|   100|     1944|                 222|\n",
      "|    0|   100|      256|                 177|\n",
      "|    0|   100|     1231|                  18|\n",
      "|    0|   100|     1269|                   5|\n",
      "|    0|   100|     2304|                 196|\n",
      "|    0|   100|     1707|                   3|\n",
      "|    0|   100|     2240|                  23|\n",
      "+-----+------+---------+--------------------+\n",
      "only showing top 20 rows\n",
      "\n"
     ]
    }
   ],
   "source": [
    "df_itemInSessioncount = df.groupBy([\"churn\", \"userId\", \"sessionId\"]).agg({'itemInSession': 'count'}).sort('userId')\n",
    "df_itemInSessioncount.show()"
   ]
  },
  {
   "cell_type": "code",
   "execution_count": 62,
   "metadata": {},
   "outputs": [
    {
     "name": "stdout",
     "output_type": "stream",
     "text": [
      "+-----+------+-------------------------+\n",
      "|churn|userId|avg(count(itemInSession))|\n",
      "+-----+------+-------------------------+\n",
      "|    0|    10|                    132.5|\n",
      "|    0|   100|        91.82857142857142|\n",
      "|    1|100001|                    46.75|\n",
      "|    0|100002|                     54.5|\n",
      "|    1|100003|                     39.0|\n",
      "|    0|100004|       59.285714285714285|\n",
      "|    1|100005|                     43.2|\n",
      "|    1|100006|                     44.0|\n",
      "|    1|100007|        57.77777777777778|\n",
      "|    0|100008|       156.66666666666666|\n",
      "|    1|100009|                     67.1|\n",
      "|    0|100010|        54.42857142857143|\n",
      "|    1|100011|                     23.0|\n",
      "|    1|100012|        85.71428571428571|\n",
      "|    1|100013|        99.42857142857143|\n",
      "|    1|100014|       51.666666666666664|\n",
      "|    1|100015|                     87.5|\n",
      "|    0|100016|                    79.75|\n",
      "|    1|100017|                     75.0|\n",
      "|    0|100018|       61.333333333333336|\n",
      "+-----+------+-------------------------+\n",
      "only showing top 20 rows\n",
      "\n"
     ]
    }
   ],
   "source": [
    "df_itemInSessioncount2 = df_itemInSessioncount.groupBy([\"churn\", \"userId\"]).agg({'count(itemInSession)': 'mean'}).sort('userId')\n",
    "df_itemInSessioncount2.show()"
   ]
  },
  {
   "cell_type": "code",
   "execution_count": 63,
   "metadata": {},
   "outputs": [
    {
     "name": "stdout",
     "output_type": "stream",
     "text": [
      "+-----+------------------------------+\n",
      "|churn|avg(avg(count(itemInSession)))|\n",
      "+-----+------------------------------+\n",
      "|    0|             86.99517396743398|\n",
      "|    1|             77.61705074052895|\n",
      "+-----+------------------------------+\n",
      "\n"
     ]
    }
   ],
   "source": [
    "df_itemInSessioncount2.groupBy(\"churn\").agg({'avg(count(itemInSession))': 'mean'}).sort('churn').show()"
   ]
  },
  {
   "cell_type": "markdown",
   "metadata": {},
   "source": [
    "Users who churn have on average less items per session"
   ]
  },
  {
   "cell_type": "markdown",
   "metadata": {},
   "source": [
    "#### length"
   ]
  },
  {
   "cell_type": "code",
   "execution_count": 64,
   "metadata": {},
   "outputs": [
    {
     "name": "stdout",
     "output_type": "stream",
     "text": [
      "+-----+------+------------------+\n",
      "|churn|userId|       sum(length)|\n",
      "+-----+------+------------------+\n",
      "|    0|100008|      191396.79602|\n",
      "|    0|200022| 85942.33360000003|\n",
      "|    0|300002|402107.92633999983|\n",
      "|    0|300008|348739.33905000007|\n",
      "|    0|200012|       16472.36843|\n",
      "|    0|100010|       66940.89735|\n",
      "|    0|    23|164815.40200000012|\n",
      "|    0|    80| 89471.02372999999|\n",
      "|    0|    97| 491231.4963499998|\n",
      "|    0|    39|1991154.9155799998|\n",
      "|    0|   149| 48136.58831000002|\n",
      "|    0|200019|121838.16904000004|\n",
      "|    0|    93|      157811.98088|\n",
      "|    0|200007|15739.869310000002|\n",
      "|    0|   114|      327836.51452|\n",
      "|    0|200003|184388.15249999988|\n",
      "|    0|    50|122751.27560999998|\n",
      "|    0|    82| 424932.7910600001|\n",
      "|    0|    14|304778.64878000005|\n",
      "|    0|     8| 63393.53190999998|\n",
      "+-----+------+------------------+\n",
      "only showing top 20 rows\n",
      "\n"
     ]
    }
   ],
   "source": [
    "df_length = df.groupBy([\"churn\", \"userId\"]).agg({'length': 'sum'}).sort('churn')\n",
    "df_length.show()"
   ]
  },
  {
   "cell_type": "code",
   "execution_count": 65,
   "metadata": {},
   "outputs": [
    {
     "name": "stdout",
     "output_type": "stream",
     "text": [
      "+-----+------------------+\n",
      "|churn|  avg(sum(length))|\n",
      "+-----+------------------+\n",
      "|    0| 276166.9374678035|\n",
      "|    1|174014.26855134612|\n",
      "+-----+------------------+\n",
      "\n"
     ]
    }
   ],
   "source": [
    "df_length.groupBy('churn').agg({'sum(length)': 'mean'}).sort('churn').show()"
   ]
  },
  {
   "cell_type": "markdown",
   "metadata": {},
   "source": [
    "On average the sum of length of the songs played is shorter for users which churned compared to users who stayed"
   ]
  },
  {
   "cell_type": "markdown",
   "metadata": {},
   "source": [
    "#### page"
   ]
  },
  {
   "cell_type": "markdown",
   "metadata": {},
   "source": [
    "Page can have 19 unique values. Let's check if the fact that user encountered Error can influence the usere's churn."
   ]
  },
  {
   "cell_type": "code",
   "execution_count": 66,
   "metadata": {},
   "outputs": [
    {
     "name": "stdout",
     "output_type": "stream",
     "text": [
      "+-----+---------------------------+\n",
      "|churn|avg(avg(error_encountered))|\n",
      "+-----+---------------------------+\n",
      "|    1|         0.4230769230769231|\n",
      "|    0|         0.5491329479768786|\n",
      "+-----+---------------------------+\n",
      "\n"
     ]
    }
   ],
   "source": [
    "user_ids_error = df.select('userId').where(df.page == 'Error').dropDuplicates().collect()\n",
    "user_ids_error = [int(row.userId) for row in user_ids_error]\n",
    "df = df.withColumn(\"error_encountered\", when(df.userId.isin(user_ids_error), 1).otherwise(0))\n",
    "df.groupBy([\"churn\", \"userId\"]).agg({'error_encountered': 'mean'}).groupBy('churn').agg({'avg(error_encountered)': 'mean'}).show()"
   ]
  },
  {
   "cell_type": "markdown",
   "metadata": {},
   "source": [
    "Encountering an error does not imply quitting from Sparkify"
   ]
  },
  {
   "cell_type": "markdown",
   "metadata": {},
   "source": [
    "#### sessionId"
   ]
  },
  {
   "cell_type": "code",
   "execution_count": 67,
   "metadata": {},
   "outputs": [
    {
     "name": "stdout",
     "output_type": "stream",
     "text": [
      "+-----+---------------------+\n",
      "|churn|avg(count(sessionId))|\n",
      "+-----+---------------------+\n",
      "|    1|    862.7692307692307|\n",
      "|    0|   1348.4971098265896|\n",
      "+-----+---------------------+\n",
      "\n"
     ]
    }
   ],
   "source": [
    "df.groupBy([\"churn\", \"userId\"]).agg({'sessionId': 'count'}).groupBy('churn').agg({'count(sessionId)': 'mean'}).show()"
   ]
  },
  {
   "cell_type": "markdown",
   "metadata": {},
   "source": [
    "Useres who churn have much less sessions"
   ]
  },
  {
   "cell_type": "markdown",
   "metadata": {},
   "source": [
    "#### timestamp information\n",
    "In the dateset there are two column with timestamp information: registration time and event time. Using this information we can calculate how long the user stays in Sparkify."
   ]
  },
  {
   "cell_type": "code",
   "execution_count": 68,
   "metadata": {},
   "outputs": [],
   "source": [
    "df = df.withColumn(\"registration_date_datetime\", to_date(df.registration_date, \"yyyy-MM-dd\"))\n",
    "df = df.withColumn(\"ts_date_datetime\", to_date(df.ts_date, \"yyyy-MM-dd\"))"
   ]
  },
  {
   "cell_type": "code",
   "execution_count": 69,
   "metadata": {},
   "outputs": [
    {
     "name": "stdout",
     "output_type": "stream",
     "text": [
      "+-----+------+---------------------+-------------------------------+---------+\n",
      "|churn|userId|max(ts_date_datetime)|max(registration_date_datetime)|date_diff|\n",
      "+-----+------+---------------------+-------------------------------+---------+\n",
      "|    0|   114|           2018-11-23|                     2018-09-13|       71|\n",
      "|    0|    39|           2018-11-30|                     2018-06-15|      168|\n",
      "|    1|    12|           2018-10-22|                     2018-08-10|       73|\n",
      "|    1|   103|           2018-11-04|                     2018-09-23|       42|\n",
      "|    0|200012|           2018-11-30|                     2018-09-26|       65|\n",
      "|    0|    82|           2018-11-28|                     2018-09-14|       75|\n",
      "|    0|    14|           2018-11-27|                     2018-07-18|      132|\n",
      "|    0|    80|           2018-11-28|                     2018-09-30|       59|\n",
      "|    0|    97|           2018-11-30|                     2018-09-04|       87|\n",
      "|    0|     8|           2018-11-30|                     2018-08-07|      115|\n",
      "|    0|   149|           2018-10-31|                     2018-09-15|       46|\n",
      "|    1|    32|           2018-10-08|                     2018-09-17|       21|\n",
      "|    0|100010|           2018-11-21|                     2018-09-27|       55|\n",
      "|    1|   106|           2018-11-02|                     2018-09-23|       40|\n",
      "|    1|100015|           2018-11-24|                     2018-09-17|       68|\n",
      "|    1|100001|           2018-10-02|                     2018-08-18|       45|\n",
      "|    0|300008|           2018-11-29|                     2018-08-30|       91|\n",
      "|    0|    50|           2018-11-30|                     2018-09-16|       75|\n",
      "|    1|100012|           2018-11-01|                     2018-09-19|       43|\n",
      "|    0|200003|           2018-11-30|                     2018-06-30|      153|\n",
      "+-----+------+---------------------+-------------------------------+---------+\n",
      "only showing top 20 rows\n",
      "\n"
     ]
    }
   ],
   "source": [
    "df_dates = df.groupBy(['churn', 'userId']).agg({'registration_date_datetime': 'max', 'ts_date_datetime': 'max'})\n",
    "df_datediff = df_dates.withColumn('date_diff', datediff(\"max(ts_date_datetime)\", \"max(registration_date_datetime)\"))\n",
    "df_datediff.show()"
   ]
  },
  {
   "cell_type": "code",
   "execution_count": 70,
   "metadata": {},
   "outputs": [
    {
     "name": "stdout",
     "output_type": "stream",
     "text": [
      "+-----+-----------------+\n",
      "|churn|   avg(date_diff)|\n",
      "+-----+-----------------+\n",
      "|    1|57.36538461538461|\n",
      "|    0|86.56647398843931|\n",
      "+-----+-----------------+\n",
      "\n"
     ]
    }
   ],
   "source": [
    "df_datediff.groupBy(['churn']).agg({'date_diff': 'mean'}).show()"
   ]
  },
  {
   "cell_type": "markdown",
   "metadata": {},
   "source": [
    "Useres who churn do it on average 57 days after registration"
   ]
  },
  {
   "cell_type": "markdown",
   "metadata": {},
   "source": [
    "## 4. Feature Engineering\n",
    "\n",
    "After the detailed dataset analysis, the next step is to create features that can be helpful in user churn prediction."
   ]
  },
  {
   "cell_type": "code",
   "execution_count": 71,
   "metadata": {},
   "outputs": [],
   "source": [
    "# The core is the DataFrame with userId and churn information. Features will be added to this core subsequently.\n",
    "df_main = df.select(['userId', 'churn', 'gender']).dropDuplicates().sort('userId')"
   ]
  },
  {
   "cell_type": "code",
   "execution_count": 72,
   "metadata": {},
   "outputs": [],
   "source": [
    "# male feature\n",
    "df_main = df_main.withColumn(\"male\", when(df_main.gender == 'M', 1).otherwise(0))\n",
    "df_main = df_main.drop(\"gender\")"
   ]
  },
  {
   "cell_type": "code",
   "execution_count": 73,
   "metadata": {},
   "outputs": [],
   "source": [
    "# Feature representing number of distinct artists listened by a particular user\n",
    "df_distinct_artists = df.groupBy(\"userId\").agg(countDistinct(\"artist\").alias('artists_count')).sort('userId')\n",
    "\n",
    "df_main = df_main.join(df_distinct_artists,\n",
    "            ['userId'], \"left\")"
   ]
  },
  {
   "cell_type": "code",
   "execution_count": 74,
   "metadata": {},
   "outputs": [],
   "source": [
    "# Feature representing average number of items in user's session\n",
    "df_itemInSession = df.groupBy([\"userId\", \"sessionId\"]).agg({'itemInSession': 'count'}).groupBy(\"userId\").agg(avg('count(itemInSession)').alias('avg_session_items'))\n",
    "df_main = df_main.join(df_itemInSession,\n",
    "            ['userId'], \"left\")"
   ]
  },
  {
   "cell_type": "code",
   "execution_count": 75,
   "metadata": {},
   "outputs": [],
   "source": [
    "# Feature representing the period of time each user uses Sparkify\n",
    "df_main = df_main.join(df_datediff.select(['userId', 'date_diff']),\n",
    "            ['userId'], \"left\")"
   ]
  },
  {
   "cell_type": "code",
   "execution_count": 76,
   "metadata": {},
   "outputs": [],
   "source": [
    "# After the DataFrame is complete with all features, userId is not necessary and can be dropped\n",
    "df_main = df_main.drop(\"userId\")"
   ]
  },
  {
   "cell_type": "code",
   "execution_count": 77,
   "metadata": {},
   "outputs": [
    {
     "name": "stdout",
     "output_type": "stream",
     "text": [
      "root\n",
      " |-- churn: integer (nullable = false)\n",
      " |-- male: integer (nullable = false)\n",
      " |-- artists_count: long (nullable = true)\n",
      " |-- avg_session_items: double (nullable = true)\n",
      " |-- date_diff: integer (nullable = true)\n",
      "\n"
     ]
    }
   ],
   "source": [
    "df_main.printSchema()"
   ]
  },
  {
   "cell_type": "code",
   "execution_count": 78,
   "metadata": {},
   "outputs": [
    {
     "name": "stdout",
     "output_type": "stream",
     "text": [
      "+-----+----+-------------+------------------+---------+\n",
      "|churn|male|artists_count| avg_session_items|date_diff|\n",
      "+-----+----+-------------+------------------+---------+\n",
      "|    0|   0|          252| 54.42857142857143|       55|\n",
      "|    0|   1|          339|              79.0|       70|\n",
      "|    1|   1|            8|              11.0|       72|\n",
      "|    0|   0|         2232| 166.3793103448276|      131|\n",
      "|    1|   1|         1385|             246.4|       20|\n",
      "|    0|   1|          142|28.714285714285715|       73|\n",
      "|    0|   1|         1302|151.86666666666667|       57|\n",
      "|    1|   0|         1744| 92.89189189189189|      110|\n",
      "|    0|   0|          643|             167.0|       24|\n",
      "|    1|   1|          233|51.666666666666664|       85|\n",
      "|    0|   0|         1299|             144.0|       67|\n",
      "|    0|   0|           78|39.333333333333336|       24|\n",
      "|    1|   1|         1241|             214.9|       54|\n",
      "|    0|   0|          534|              53.0|      125|\n",
      "|    0|   1|         1332|             164.6|       66|\n",
      "|    0|   0|         2070| 70.28571428571429|       74|\n",
      "|    1|   1|          207|              63.8|       65|\n",
      "|    1|   1|         1804|105.97058823529412|       60|\n",
      "|    0|   0|          865|149.11111111111111|       71|\n",
      "|    0|   1|          195|              29.2|       87|\n",
      "+-----+----+-------------+------------------+---------+\n",
      "only showing top 20 rows\n",
      "\n"
     ]
    }
   ],
   "source": [
    "df_main.show()"
   ]
  },
  {
   "cell_type": "markdown",
   "metadata": {},
   "source": [
    "## 5. Modeling\n",
    "In this part the data will be split into test and train datasets. Two machine learning models will be run. The best model will be chosen based on accuracy and F1-score. \n",
    "The cross validation was not run due to long time and often disconnection of Udacity Workspace."
   ]
  },
  {
   "cell_type": "code",
   "execution_count": 79,
   "metadata": {},
   "outputs": [],
   "source": [
    "# Vectorizing the data into a new column \"features\" \n",
    "assembler = VectorAssembler(inputCols=['artists_count',\n",
    "                                       'avg_session_items',\n",
    "                                       'date_diff',\n",
    "                                       'male'],\n",
    "                                    outputCol='features')"
   ]
  },
  {
   "cell_type": "code",
   "execution_count": 80,
   "metadata": {},
   "outputs": [],
   "source": [
    "# Splitting the data into train and test\n",
    "train_data, test_data = df_main.randomSplit([0.7, 0.3], seed=1)"
   ]
  },
  {
   "cell_type": "code",
   "execution_count": 81,
   "metadata": {},
   "outputs": [
    {
     "name": "stdout",
     "output_type": "stream",
     "text": [
      "52 users churned\n",
      "173 users did not churn\n",
      "proportion of users who churned: 0.2311111111111111\n"
     ]
    }
   ],
   "source": [
    "#Checking how balanced is the dataset\n",
    "number_of_churned_users = df_main.filter(df_main['churn'] == 1).count()\n",
    "number_of_not_churned_users = df_main.filter(df_main['churn'] == 0).count()\n",
    "\n",
    "print(f'{number_of_churned_users} users churned')\n",
    "print(f'{number_of_not_churned_users} users did not churn')\n",
    "print(f'proportion of users who churned: {number_of_churned_users / (number_of_churned_users + number_of_not_churned_users)}')"
   ]
  },
  {
   "cell_type": "markdown",
   "metadata": {},
   "source": [
    "#### Logistic Regression"
   ]
  },
  {
   "cell_type": "code",
   "execution_count": 82,
   "metadata": {},
   "outputs": [],
   "source": [
    "log_reg = LogisticRegression(featuresCol='features',\n",
    "                             labelCol='churn')\n",
    "  \n",
    "# Creating the pipeline\n",
    "pipe = Pipeline(stages=[assembler, log_reg])"
   ]
  },
  {
   "cell_type": "code",
   "execution_count": 83,
   "metadata": {},
   "outputs": [
    {
     "data": {
      "text/plain": [
       "[Row(churn=0, male=1, artists_count=142, avg_session_items=28.714285714285715, date_diff=73, features=DenseVector([142.0, 28.7143, 73.0, 1.0]), rawPrediction=DenseVector([0.9098, -0.9098]), probability=DenseVector([0.713, 0.287]), prediction=0.0),\n",
       " Row(churn=1, male=1, artists_count=1385, avg_session_items=246.4, date_diff=20, features=DenseVector([1385.0, 246.4, 20.0, 1.0]), rawPrediction=DenseVector([0.1604, -0.1604]), probability=DenseVector([0.54, 0.46]), prediction=0.0)]"
      ]
     },
     "execution_count": 83,
     "metadata": {},
     "output_type": "execute_result"
    }
   ],
   "source": [
    "# Fitting the model on training data\n",
    "fit_model = pipe.fit(train_data)\n",
    "  \n",
    "# Storing the results on test data\n",
    "results = fit_model.transform(test_data)\n",
    "  \n",
    "# Showing the results\n",
    "results.take(2)"
   ]
  },
  {
   "cell_type": "code",
   "execution_count": 84,
   "metadata": {},
   "outputs": [
    {
     "name": "stdout",
     "output_type": "stream",
     "text": [
      "root\n",
      " |-- churn: integer (nullable = false)\n",
      " |-- male: integer (nullable = false)\n",
      " |-- artists_count: long (nullable = true)\n",
      " |-- avg_session_items: double (nullable = true)\n",
      " |-- date_diff: integer (nullable = true)\n",
      " |-- features: vector (nullable = true)\n",
      " |-- rawPrediction: vector (nullable = true)\n",
      " |-- probability: vector (nullable = true)\n",
      " |-- prediction: double (nullable = false)\n",
      "\n"
     ]
    }
   ],
   "source": [
    "results.printSchema()"
   ]
  },
  {
   "cell_type": "code",
   "execution_count": 85,
   "metadata": {},
   "outputs": [],
   "source": [
    "# Conversion to pandas DataFrames for the purpose of optimization metrics calculation\n",
    "y_predict = results.select('prediction').toPandas()\n",
    "y_test = results.select('churn').toPandas()"
   ]
  },
  {
   "cell_type": "code",
   "execution_count": 86,
   "metadata": {},
   "outputs": [
    {
     "name": "stdout",
     "output_type": "stream",
     "text": [
      "Confusion Matrix:\n",
      "[[44  3]\n",
      " [10  3]]\n"
     ]
    }
   ],
   "source": [
    "cm = confusion_matrix(y_test, y_predict)\n",
    "print(\"Confusion Matrix:\")\n",
    "print(cm)"
   ]
  },
  {
   "cell_type": "code",
   "execution_count": 87,
   "metadata": {},
   "outputs": [
    {
     "name": "stdout",
     "output_type": "stream",
     "text": [
      "Accuracy: 0.783\n",
      "Precision: 0.747\n",
      "Recall: 0.783\n",
      "F1 Score: 0.751\n"
     ]
    }
   ],
   "source": [
    "# Calculate accuracy, precision, recall, and F1 score\n",
    "acc = accuracy_score(y_test, y_predict)\n",
    "prec = precision_score(y_test, y_predict, average='weighted')\n",
    "rec = recall_score(y_test, y_predict, average='weighted')\n",
    "f1 = f1_score(y_test, y_predict, average='weighted')\n",
    "\n",
    "print(f\"Accuracy: {acc:.3f}\")\n",
    "print(f\"Precision: {prec:.3f}\")\n",
    "print(f\"Recall: {rec:.3f}\")\n",
    "print(f\"F1 Score: {f1:.3f}\")"
   ]
  },
  {
   "cell_type": "markdown",
   "metadata": {},
   "source": [
    "#### Random Forest"
   ]
  },
  {
   "cell_type": "code",
   "execution_count": 88,
   "metadata": {},
   "outputs": [],
   "source": [
    "\n",
    "rf = RandomForestClassifier(featuresCol='features',\n",
    "                             labelCol='churn', \n",
    "                            numTrees=30, maxDepth=30)\n",
    "pipeline = Pipeline(stages=[assembler, rf])"
   ]
  },
  {
   "cell_type": "code",
   "execution_count": 89,
   "metadata": {},
   "outputs": [
    {
     "data": {
      "text/plain": [
       "[Row(churn=0, male=1, artists_count=142, avg_session_items=28.714285714285715, date_diff=73, features=DenseVector([142.0, 28.7143, 73.0, 1.0]), rawPrediction=DenseVector([26.96, 3.04]), probability=DenseVector([0.8987, 0.1013]), prediction=0.0),\n",
       " Row(churn=1, male=1, artists_count=1385, avg_session_items=246.4, date_diff=20, features=DenseVector([1385.0, 246.4, 20.0, 1.0]), rawPrediction=DenseVector([9.0, 21.0]), probability=DenseVector([0.3, 0.7]), prediction=1.0)]"
      ]
     },
     "execution_count": 89,
     "metadata": {},
     "output_type": "execute_result"
    }
   ],
   "source": [
    "# Fitting the model on training data\n",
    "fit_model = pipeline.fit(train_data)\n",
    "  \n",
    "# Storing the results on test data\n",
    "results = fit_model.transform(test_data)\n",
    "  \n",
    "# Showing the results\n",
    "results.take(2)"
   ]
  },
  {
   "cell_type": "code",
   "execution_count": 90,
   "metadata": {},
   "outputs": [],
   "source": [
    "# Conversion to pandas DataFrames for the purpose of optimization metrics calculation\n",
    "y_predict = results.select('prediction').toPandas()\n",
    "y_test = results.select('churn').toPandas()"
   ]
  },
  {
   "cell_type": "code",
   "execution_count": 91,
   "metadata": {},
   "outputs": [
    {
     "name": "stdout",
     "output_type": "stream",
     "text": [
      "Confusion Matrix:\n",
      "[[42  5]\n",
      " [ 8  5]]\n"
     ]
    }
   ],
   "source": [
    "cm = confusion_matrix(y_test, y_predict)\n",
    "print(\"Confusion Matrix:\")\n",
    "print(cm)"
   ]
  },
  {
   "cell_type": "code",
   "execution_count": 92,
   "metadata": {},
   "outputs": [
    {
     "name": "stdout",
     "output_type": "stream",
     "text": [
      "Accuracy: 0.783\n",
      "Precision: 0.766\n",
      "Recall: 0.783\n",
      "F1 Score: 0.773\n"
     ]
    }
   ],
   "source": [
    "# Calculate accuracy, precision, recall, and F1 score\n",
    "acc = accuracy_score(y_test, y_predict)\n",
    "prec = precision_score(y_test, y_predict, average='weighted')\n",
    "rec = recall_score(y_test, y_predict, average='weighted')\n",
    "f1 = f1_score(y_test, y_predict, average='weighted')\n",
    "\n",
    "print(f\"Accuracy: {acc:.3f}\")\n",
    "print(f\"Precision: {prec:.3f}\")\n",
    "print(f\"Recall: {rec:.3f}\")\n",
    "print(f\"F1 Score: {f1:.3f}\")"
   ]
  },
  {
   "cell_type": "markdown",
   "metadata": {},
   "source": [
    "## 6. Summary\n",
    "Two machine learning models were run. Random Forest provides better results according to F1-score. The F1-score was chosen as optimization metric because it presents the model’s balanced ability to both capture positive cases (recall) and be accurate with the cases it does capture (precision). F1-score of about 80% indicates that the model performance on unseen data is very good. <br>\n",
    "The following improvements can be made to get a better model:\n",
    "* develop new features. For example a good candidate is a `page` column representing 19 events. Occurence of some of those events might indicate user behaviour that helps predicting its' churn.\n",
    "* try other machine learning models. For example Gradient-boosted trees, SVMs.\n",
    "* check for optimal hyperparameters for the currently checked and new models."
   ]
  }
 ],
 "metadata": {
  "kernelspec": {
   "display_name": "Python 3",
   "language": "python",
   "name": "python3"
  },
  "language_info": {
   "codemirror_mode": {
    "name": "ipython",
    "version": 3
   },
   "file_extension": ".py",
   "mimetype": "text/x-python",
   "name": "python",
   "nbconvert_exporter": "python",
   "pygments_lexer": "ipython3",
   "version": "3.6.3"
  }
 },
 "nbformat": 4,
 "nbformat_minor": 2
}
